{
 "cells": [
  {
   "cell_type": "code",
   "id": "initial_id",
   "metadata": {
    "collapsed": true,
    "ExecuteTime": {
     "end_time": "2025-05-15T02:20:38.588388Z",
     "start_time": "2025-05-15T02:20:38.479961Z"
    }
   },
   "source": [
    "import asyncio\n",
    "\n",
    "from uuid_extensions import uuid7\n",
    "\n",
    "from chatbone.broker import REDIS,UserData, ChatSessionData\n",
    "\n",
    "\n",
    "def session(uid, n_messages):\n",
    "\treturn {\"id\"      : uid,\n",
    "\t        \"messages\": [{\"role\": \"assistant\", \"content\": f\"you are an assistant {uid} and message i {i}\"} for i in range(n_messages)]}\n",
    "\n",
    "\n",
    "def create_userdata(n_sessions, n_messages,uid=None):\n",
    "\tuseruid = uid or uuid7()\n",
    "\tchat_sessions={}\n",
    "\tfor i in range(n_sessions):\n",
    "\t\tcsid = uuid7()\n",
    "\t\tchat_sessions[csid]=session(csid,n_messages)\n",
    "\treturn UserData.model_validate({\"id\": useruid,\n",
    "\t                                \"username\": f\"hieu:{useruid}\",\n",
    "\t                                \"password\":\"mypassword\",\n",
    "\t                                \"chat_sessions\": chat_sessions})\n",
    "uid1 = \"0196cd4a-c93c-7b44-b00c-8dd6fdb695bb\"\n",
    "uid2 = (\"0196cd4a-f224-7531-a923-\"\n",
    "        \"a46be56a2e0e\")\n",
    "\n",
    "userdata1 = create_userdata(2,2,uid1)\n",
    "userdata2 = create_userdata(2,2,uid2)\n",
    "\n",
    "print(await userdata1.delete())\n",
    "print( await userdata1.save()) # True\n",
    "print(await userdata1.save() ) # True\n",
    "\n",
    "len(userdata1.chat_sessions)\n"
   ],
   "outputs": [
    {
     "name": "stdout",
     "output_type": "stream",
     "text": [
      "1\n",
      "True\n",
      "None\n"
     ]
    },
    {
     "data": {
      "text/plain": [
       "2"
      ]
     },
     "execution_count": 9,
     "metadata": {},
     "output_type": "execute_result"
    }
   ],
   "execution_count": 9
  },
  {
   "metadata": {},
   "cell_type": "code",
   "source": "await REDIS.delete)",
   "id": "37c0c51a491751e7",
   "outputs": [],
   "execution_count": null
  },
  {
   "metadata": {},
   "cell_type": "code",
   "source": "new  = await userdata1.refresh()",
   "id": "5f472f8e9723bb5a",
   "outputs": [],
   "execution_count": null
  },
  {
   "metadata": {},
   "cell_type": "code",
   "source": [
    "print(await userdata1.save(skip_if_exist=False) ) # True\n",
    "print(await REDIS.ttl(userdata1.rkey)) # -2 means not exist, -1 means not 'expire'"
   ],
   "id": "3a2e77757a672b4e",
   "outputs": [],
   "execution_count": null
  },
  {
   "metadata": {},
   "cell_type": "code",
   "source": "len(await userdata1.all_sub_rkeys)",
   "id": "8e259ad5fa01d3cb",
   "outputs": [],
   "execution_count": null
  },
  {
   "metadata": {},
   "cell_type": "code",
   "source": [
    "token = await userdata1.get_encrypt_token()\n",
    "token"
   ],
   "id": "3b46f0fa50555fc1",
   "outputs": [],
   "execution_count": null
  },
  {
   "metadata": {},
   "cell_type": "code",
   "source": "data = UserData.verify_encrypt_token()",
   "id": "47c6b5d9592ca24a",
   "outputs": [],
   "execution_count": null
  },
  {
   "metadata": {
    "ExecuteTime": {
     "end_time": "2025-05-14T11:08:19.784025Z",
     "start_time": "2025-05-14T11:08:19.739721Z"
    }
   },
   "cell_type": "code",
   "source": [
    "# await REDIS.json().set(\"Abc\",'.',{\"c\":123})\n",
    "print(await REDIS.json().set(\"Abc\",\".\",{\"c\":123}))"
   ],
   "id": "12cc742dea554629",
   "outputs": [
    {
     "name": "stdout",
     "output_type": "stream",
     "text": [
      "True\n"
     ]
    }
   ],
   "execution_count": 200
  },
  {
   "metadata": {
    "ExecuteTime": {
     "end_time": "2025-05-14T11:08:20.652954Z",
     "start_time": "2025-05-14T11:08:20.610165Z"
    }
   },
   "cell_type": "code",
   "source": "await REDIS.json().set(\"Abc\",\"$.1\",[])\n",
   "id": "3d5d63de12993bd6",
   "outputs": [
    {
     "data": {
      "text/plain": [
       "True"
      ]
     },
     "execution_count": 201,
     "metadata": {},
     "output_type": "execute_result"
    }
   ],
   "execution_count": 201
  },
  {
   "metadata": {
    "ExecuteTime": {
     "end_time": "2025-05-14T11:08:21.356897Z",
     "start_time": "2025-05-14T11:08:21.315112Z"
    }
   },
   "cell_type": "code",
   "source": "await REDIS.json().arrappend(\"Abc\",\"$.1\",333)",
   "id": "292e217330badd78",
   "outputs": [
    {
     "data": {
      "text/plain": [
       "[1]"
      ]
     },
     "execution_count": 202,
     "metadata": {},
     "output_type": "execute_result"
    }
   ],
   "execution_count": 202
  },
  {
   "metadata": {
    "ExecuteTime": {
     "end_time": "2025-05-14T11:08:21.923041Z",
     "start_time": "2025-05-14T11:08:21.885318Z"
    }
   },
   "cell_type": "code",
   "source": [
    "async with REDIS.pipeline(transaction=True) as pipeline:\n",
    "\n",
    "\tawait pipeline.json().set(\"Abc\",\".\",{\"c\":123},nx=True)\n",
    "\n",
    "\tawait pipeline.json().set(\"Abc\",\"$.a\",[],nx=True)\n",
    "\n",
    "\tawait pipeline.json().arrappend(\"Abc\",\"$.a\",*[i for i in range(10)])\n",
    "\n",
    "\tr = await pipeline.execute(raise_on_error=False)\n",
    "r"
   ],
   "id": "aa7742dc2932dbda",
   "outputs": [
    {
     "data": {
      "text/plain": [
       "[None, True, [10]]"
      ]
     },
     "execution_count": 203,
     "metadata": {},
     "output_type": "execute_result"
    }
   ],
   "execution_count": 203
  },
  {
   "metadata": {
    "ExecuteTime": {
     "end_time": "2025-05-14T11:08:24.570246Z",
     "start_time": "2025-05-14T11:08:24.527266Z"
    }
   },
   "cell_type": "code",
   "source": [
    "async with REDIS.pipeline(transaction=True) as pipeline:\n",
    "\tawait pipeline.json().arrtrim(\"Abc\",\"$.c\",3,5)\n",
    "\tr = await pipeline.execute(raise_on_error=False)\n",
    "# print(await REDIS.json().arrlen(\"Abc\",\"$.a\"))\n",
    "r"
   ],
   "id": "fd0e9c80ffb530d7",
   "outputs": [
    {
     "data": {
      "text/plain": [
       "[[None]]"
      ]
     },
     "execution_count": 204,
     "metadata": {},
     "output_type": "execute_result"
    }
   ],
   "execution_count": 204
  },
  {
   "metadata": {},
   "cell_type": "code",
   "outputs": [],
   "execution_count": null,
   "source": "",
   "id": "ca163c868c9c76b0"
  },
  {
   "metadata": {
    "ExecuteTime": {
     "end_time": "2025-05-14T11:08:28.604666Z",
     "start_time": "2025-05-14T11:08:28.528748Z"
    }
   },
   "cell_type": "code",
   "source": [
    "await REDIS.json().set(\"Abc\",\"$.d\",{\"a\":{\"s\":1,\"mm\":2}})\n",
    "print(await REDIS.json().get(\"Abc\",\"$.d\",\"$.c\",\"$.sasa\"))"
   ],
   "id": "cd3dd16bebe12c7",
   "outputs": [
    {
     "name": "stdout",
     "output_type": "stream",
     "text": [
      "{'$.sasa': [], '$.c': [123], '$.d': [{'a': {'s': 1, 'mm': 2}}]}\n"
     ]
    }
   ],
   "execution_count": 205
  },
  {
   "metadata": {
    "ExecuteTime": {
     "end_time": "2025-05-14T11:20:34.101646Z",
     "start_time": "2025-05-14T11:20:34.063025Z"
    }
   },
   "cell_type": "code",
   "source": [
    "async with REDIS.pipeline(transaction=True) as pipeline:\n",
    "\t# await pipeline.json().get(\"Abc\",\".d\",\".c\")\n",
    "\t# await pipeline.json().get(\"Abc\",\".d\",\".c\")\n",
    "\t# await pipeline.json().get(\"Abc\",\".d\",\".c\")\n",
    "\t# await pipeline.json().get(\"Abc\",\"$\")\n",
    "\t# await pipeline.json().get(\"Abc\",\".\")\n",
    "\t# await pipeline.json().get(\"Abc\",\"$\")\n",
    "\tawait pipeline.json().get(\"Abc\",\".c\",\".d.a\",\".a\")\n",
    "\tawait pipeline.json().get(\"Abc\",\".c\",\".d\",\".a\")\n",
    "\tr = await pipeline.execute()\n",
    "\n",
    "for k in r:\n",
    "\tprint(k)\n"
   ],
   "id": "d46be853e11920a2",
   "outputs": [
    {
     "name": "stdout",
     "output_type": "stream",
     "text": [
      "{'.a': [0, 1, 2, 3, 4, 5, 6, 7, 8, 9], '.c': 123, '.d.a': {'s': 1, 'mm': 2}}\n",
      "{'.c': 123, '.a': [0, 1, 2, 3, 4, 5, 6, 7, 8, 9], '.d': {'a': {'s': 1, 'mm': 2}}}\n"
     ]
    }
   ],
   "execution_count": 230
  },
  {
   "metadata": {
    "ExecuteTime": {
     "end_time": "2025-05-14T11:07:03.322389Z",
     "start_time": "2025-05-14T11:07:03.244762Z"
    }
   },
   "cell_type": "code",
   "source": [
    "await REDIS.json().set(\"c\",\"$\",123)\n",
    "await REDIS.json().set(\"c\",\"$\",{})"
   ],
   "id": "dbea5ee6b4029014",
   "outputs": [
    {
     "data": {
      "text/plain": [
       "True"
      ]
     },
     "execution_count": 193,
     "metadata": {},
     "output_type": "execute_result"
    }
   ],
   "execution_count": 193
  },
  {
   "metadata": {
    "ExecuteTime": {
     "end_time": "2025-05-14T11:07:43.288055Z",
     "start_time": "2025-05-14T11:07:43.237430Z"
    }
   },
   "cell_type": "code",
   "source": "print(await REDIS.json().get(\"c\",\"$.a.ed\"))",
   "id": "29eef7e04ce6e64a",
   "outputs": [
    {
     "name": "stdout",
     "output_type": "stream",
     "text": [
      "None\n"
     ]
    }
   ],
   "execution_count": 199
  },
  {
   "metadata": {
    "ExecuteTime": {
     "end_time": "2025-05-15T04:18:48.636379Z",
     "start_time": "2025-05-15T04:18:48.478910Z"
    }
   },
   "cell_type": "code",
   "source": [
    "await REDIS.json().set(\"abc\",\"$\",{\"ls\":\"aaa\",\"ha\":{\"ahh\":313}})\n",
    "await REDIS.json().get(\"abc\",\".ha.ashh\") #get return None"
   ],
   "id": "dc9bd64e0b26f760",
   "outputs": [
    {
     "ename": "ResponseError",
     "evalue": "Path '$.ha.ashh' does not exist",
     "output_type": "error",
     "traceback": [
      "\u001B[31m---------------------------------------------------------------------------\u001B[39m",
      "\u001B[31mResponseError\u001B[39m                             Traceback (most recent call last)",
      "\u001B[36mCell\u001B[39m\u001B[36m \u001B[39m\u001B[32mIn[30]\u001B[39m\u001B[32m, line 2\u001B[39m\n\u001B[32m      1\u001B[39m \u001B[38;5;28;01mawait\u001B[39;00m REDIS.json().set(\u001B[33m\"\u001B[39m\u001B[33mabc\u001B[39m\u001B[33m\"\u001B[39m,\u001B[33m\"\u001B[39m\u001B[33m$\u001B[39m\u001B[33m\"\u001B[39m,{\u001B[33m\"\u001B[39m\u001B[33mls\u001B[39m\u001B[33m\"\u001B[39m:\u001B[33m\"\u001B[39m\u001B[33maaa\u001B[39m\u001B[33m\"\u001B[39m,\u001B[33m\"\u001B[39m\u001B[33mha\u001B[39m\u001B[33m\"\u001B[39m:{\u001B[33m\"\u001B[39m\u001B[33mahh\u001B[39m\u001B[33m\"\u001B[39m:\u001B[32m313\u001B[39m}})\n\u001B[32m----> \u001B[39m\u001B[32m2\u001B[39m \u001B[38;5;28;01mawait\u001B[39;00m REDIS.json().get(\u001B[33m\"\u001B[39m\u001B[33mabc\u001B[39m\u001B[33m\"\u001B[39m,\u001B[33m\"\u001B[39m\u001B[33m.ha.ashh\u001B[39m\u001B[33m\"\u001B[39m) \u001B[38;5;66;03m#get return None\u001B[39;00m\n",
      "\u001B[36mFile \u001B[39m\u001B[32m~/Workspace/projects/chatbone/.venv/lib/python3.12/site-packages/redis/asyncio/client.py:518\u001B[39m, in \u001B[36mRedis.execute_command\u001B[39m\u001B[34m(self, *args, **options)\u001B[39m\n\u001B[32m    516\u001B[39m     \u001B[38;5;28;01mawait\u001B[39;00m \u001B[38;5;28mself\u001B[39m._single_conn_lock.acquire()\n\u001B[32m    517\u001B[39m \u001B[38;5;28;01mtry\u001B[39;00m:\n\u001B[32m--> \u001B[39m\u001B[32m518\u001B[39m     \u001B[38;5;28;01mreturn\u001B[39;00m \u001B[38;5;28;01mawait\u001B[39;00m conn.retry.call_with_retry(\n\u001B[32m    519\u001B[39m         \u001B[38;5;28;01mlambda\u001B[39;00m: \u001B[38;5;28mself\u001B[39m._send_command_parse_response(\n\u001B[32m    520\u001B[39m             conn, command_name, *args, **options\n\u001B[32m    521\u001B[39m         ),\n\u001B[32m    522\u001B[39m         \u001B[38;5;28;01mlambda\u001B[39;00m error: \u001B[38;5;28mself\u001B[39m._disconnect_raise(conn, error),\n\u001B[32m    523\u001B[39m     )\n\u001B[32m    524\u001B[39m \u001B[38;5;28;01mfinally\u001B[39;00m:\n\u001B[32m    525\u001B[39m     \u001B[38;5;28;01mif\u001B[39;00m \u001B[38;5;28mself\u001B[39m.single_connection_client:\n",
      "\u001B[36mFile \u001B[39m\u001B[32m~/Workspace/projects/chatbone/.venv/lib/python3.12/site-packages/redis/asyncio/retry.py:59\u001B[39m, in \u001B[36mRetry.call_with_retry\u001B[39m\u001B[34m(self, do, fail)\u001B[39m\n\u001B[32m     57\u001B[39m \u001B[38;5;28;01mwhile\u001B[39;00m \u001B[38;5;28;01mTrue\u001B[39;00m:\n\u001B[32m     58\u001B[39m     \u001B[38;5;28;01mtry\u001B[39;00m:\n\u001B[32m---> \u001B[39m\u001B[32m59\u001B[39m         \u001B[38;5;28;01mreturn\u001B[39;00m \u001B[38;5;28;01mawait\u001B[39;00m do()\n\u001B[32m     60\u001B[39m     \u001B[38;5;28;01mexcept\u001B[39;00m \u001B[38;5;28mself\u001B[39m._supported_errors \u001B[38;5;28;01mas\u001B[39;00m error:\n\u001B[32m     61\u001B[39m         failures += \u001B[32m1\u001B[39m\n",
      "\u001B[36mFile \u001B[39m\u001B[32m~/Workspace/projects/chatbone/.venv/lib/python3.12/site-packages/redis/asyncio/client.py:492\u001B[39m, in \u001B[36mRedis._send_command_parse_response\u001B[39m\u001B[34m(self, conn, command_name, *args, **options)\u001B[39m\n\u001B[32m    488\u001B[39m \u001B[38;5;250m\u001B[39m\u001B[33;03m\"\"\"\u001B[39;00m\n\u001B[32m    489\u001B[39m \u001B[33;03mSend a command and parse the response\u001B[39;00m\n\u001B[32m    490\u001B[39m \u001B[33;03m\"\"\"\u001B[39;00m\n\u001B[32m    491\u001B[39m \u001B[38;5;28;01mawait\u001B[39;00m conn.send_command(*args)\n\u001B[32m--> \u001B[39m\u001B[32m492\u001B[39m \u001B[38;5;28;01mreturn\u001B[39;00m \u001B[38;5;28;01mawait\u001B[39;00m \u001B[38;5;28mself\u001B[39m.parse_response(conn, command_name, **options)\n",
      "\u001B[36mFile \u001B[39m\u001B[32m~/Workspace/projects/chatbone/.venv/lib/python3.12/site-packages/redis/asyncio/client.py:539\u001B[39m, in \u001B[36mRedis.parse_response\u001B[39m\u001B[34m(self, connection, command_name, **options)\u001B[39m\n\u001B[32m    537\u001B[39m         options.pop(NEVER_DECODE)\n\u001B[32m    538\u001B[39m     \u001B[38;5;28;01melse\u001B[39;00m:\n\u001B[32m--> \u001B[39m\u001B[32m539\u001B[39m         response = \u001B[38;5;28;01mawait\u001B[39;00m connection.read_response()\n\u001B[32m    540\u001B[39m \u001B[38;5;28;01mexcept\u001B[39;00m ResponseError:\n\u001B[32m    541\u001B[39m     \u001B[38;5;28;01mif\u001B[39;00m EMPTY_RESPONSE \u001B[38;5;129;01min\u001B[39;00m options:\n",
      "\u001B[36mFile \u001B[39m\u001B[32m~/Workspace/projects/chatbone/.venv/lib/python3.12/site-packages/redis/asyncio/connection.py:810\u001B[39m, in \u001B[36mAbstractConnection.read_response\u001B[39m\u001B[34m(self, disable_decoding, timeout, disconnect_on_error)\u001B[39m\n\u001B[32m    807\u001B[39m     \u001B[38;5;28mself\u001B[39m.next_health_check = next_time\n\u001B[32m    809\u001B[39m \u001B[38;5;28;01mif\u001B[39;00m \u001B[38;5;28misinstance\u001B[39m(response, ResponseError):\n\u001B[32m--> \u001B[39m\u001B[32m810\u001B[39m     \u001B[38;5;28;01mraise\u001B[39;00m response \u001B[38;5;28;01mfrom\u001B[39;00m\u001B[38;5;250m \u001B[39m\u001B[38;5;28;01mNone\u001B[39;00m\n\u001B[32m    811\u001B[39m \u001B[38;5;28;01mreturn\u001B[39;00m response\n",
      "\u001B[31mResponseError\u001B[39m: Path '$.ha.ashh' does not exist"
     ]
    }
   ],
   "execution_count": 30
  },
  {
   "metadata": {
    "ExecuteTime": {
     "end_time": "2025-05-15T04:02:15.625717Z",
     "start_time": "2025-05-15T04:02:15.593736Z"
    }
   },
   "cell_type": "code",
   "source": "await REDIS.json().get(\"ascasffffffff\",\".xsaxas\")",
   "id": "28be7fb826c9b049",
   "outputs": [],
   "execution_count": 24
  },
  {
   "metadata": {},
   "cell_type": "code",
   "source": "await REDIS.json().arrappend(\"ddd\",\".ls\",1,2,3,4)",
   "id": "20f308f059674799",
   "outputs": [],
   "execution_count": null
  },
  {
   "metadata": {
    "ExecuteTime": {
     "end_time": "2025-05-15T03:30:48.833456Z",
     "start_time": "2025-05-15T03:30:48.591584Z"
    }
   },
   "cell_type": "code",
   "source": [
    "from pydantic import BaseModel\n",
    "class A(BaseModel):\n",
    "\ta:int = 5\n",
    "\t@property\n",
    "\tasync def aa(self):\n",
    "\t\treturn \"aa\"\n",
    "a = A()\n",
    "# getattr(a,'aa')\n",
    "getattr(A,'a')"
   ],
   "id": "8d232277d4ef0a6c",
   "outputs": [
    {
     "ename": "AttributeError",
     "evalue": "a",
     "output_type": "error",
     "traceback": [
      "\u001B[31m---------------------------------------------------------------------------\u001B[39m",
      "\u001B[31mAttributeError\u001B[39m                            Traceback (most recent call last)",
      "\u001B[36mCell\u001B[39m\u001B[36m \u001B[39m\u001B[32mIn[13]\u001B[39m\u001B[32m, line 9\u001B[39m\n\u001B[32m      7\u001B[39m a = A()\n\u001B[32m      8\u001B[39m \u001B[38;5;66;03m# getattr(a,'aa')\u001B[39;00m\n\u001B[32m----> \u001B[39m\u001B[32m9\u001B[39m \u001B[38;5;28;43mgetattr\u001B[39;49m\u001B[43m(\u001B[49m\u001B[43mA\u001B[49m\u001B[43m,\u001B[49m\u001B[33;43m'\u001B[39;49m\u001B[33;43ma\u001B[39;49m\u001B[33;43m'\u001B[39;49m\u001B[43m)\u001B[49m\n",
      "\u001B[36mFile \u001B[39m\u001B[32m~/Workspace/projects/chatbone/.venv/lib/python3.12/site-packages/pydantic/_internal/_model_construction.py:264\u001B[39m, in \u001B[36mModelMetaclass.__getattr__\u001B[39m\u001B[34m(self, item)\u001B[39m\n\u001B[32m    262\u001B[39m \u001B[38;5;28;01mif\u001B[39;00m private_attributes \u001B[38;5;129;01mand\u001B[39;00m item \u001B[38;5;129;01min\u001B[39;00m private_attributes:\n\u001B[32m    263\u001B[39m     \u001B[38;5;28;01mreturn\u001B[39;00m private_attributes[item]\n\u001B[32m--> \u001B[39m\u001B[32m264\u001B[39m \u001B[38;5;28;01mraise\u001B[39;00m \u001B[38;5;167;01mAttributeError\u001B[39;00m(item)\n",
      "\u001B[31mAttributeError\u001B[39m: a"
     ]
    }
   ],
   "execution_count": 13
  }
 ],
 "metadata": {
  "kernelspec": {
   "display_name": "Python 3",
   "language": "python",
   "name": "python3"
  },
  "language_info": {
   "codemirror_mode": {
    "name": "ipython",
    "version": 2
   },
   "file_extension": ".py",
   "mimetype": "text/x-python",
   "name": "python",
   "nbconvert_exporter": "python",
   "pygments_lexer": "ipython2",
   "version": "2.7.6"
  }
 },
 "nbformat": 4,
 "nbformat_minor": 5
}
