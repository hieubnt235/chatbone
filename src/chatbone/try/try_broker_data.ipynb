{
 "cells": [
  {
   "cell_type": "code",
   "id": "initial_id",
   "metadata": {
    "collapsed": true,
    "ExecuteTime": {
     "end_time": "2025-05-16T10:08:15.008398Z",
     "start_time": "2025-05-16T10:08:14.230560Z"
    }
   },
   "source": [
    "import asyncio\n",
    "\n",
    "from uuid_extensions import uuid7\n",
    "\n",
    "from chatbone.broker import REDIS,UserData, ChatSessionData\n",
    "\n",
    "\n",
    "def session(uid, n_messages):\n",
    "\treturn {\"id\"      : uid,\n",
    "\t        \"messages\": [{\"role\": \"assistant\", \"content\": f\"you are an assistant {uid} and message i {i}\"} for i in range(n_messages)]}\n",
    "\n",
    "\n",
    "def create_userdata(n_sessions, n_messages,uid=None):\n",
    "\tuseruid = uid or uuid7()\n",
    "\tchat_sessions={}\n",
    "\tfor i in range(n_sessions):\n",
    "\t\tcsid = uuid7()\n",
    "\t\tchat_sessions[csid]=session(csid,n_messages)\n",
    "\treturn UserData.model_validate({\"id\": useruid,\n",
    "\t                                \"username\": f\"hieu:{useruid}\",\n",
    "\t                                \"password\":\"mypassword\",\n",
    "\t                                \"chat_sessions\": chat_sessions})\n",
    "uid1 = \"0196cd4a-c93c-7b44-b00c-8dd6fdb695bb\"\n",
    "uid2 = (\"0196cd4a-f224-7531-a923-\"\n",
    "        \"a46be56a2e0e\")\n",
    "\n",
    "userdata1 = create_userdata(2,2,uid1)\n",
    "userdata2 = create_userdata(2,2,uid2)\n",
    "\n",
    "print(await userdata1.delete())\n",
    "print( await userdata1.save()) # True\n",
    "print(await userdata1.save() ) # True\n",
    "\n",
    "len(userdata1.chat_sessions)\n"
   ],
   "outputs": [
    {
     "name": "stderr",
     "output_type": "stream",
     "text": [
      "\u001B[32m2025-05-16 17:08:14.838\u001B[0m | \u001B[1mINFO    \u001B[0m | \u001B[36mutilities.settings.settings\u001B[0m:\u001B[36m__init__\u001B[0m:\u001B[36m73\u001B[0m - \u001B[1m'chatbone' SERVICE SETTINGS:\n",
      "{\n",
      "    \"service_id\": \"068270e8-ed20-7287-8000-4e5c43481143\",\n",
      "    \"service_root\": \"/home/hieu/Workspace/projects/chatbone/src/chatbone\",\n",
      "    \"config\": {\n",
      "        \"config_file\": null,\n",
      "        \"redis_lock_timeout\": 10,\n",
      "        \"redis_acquire_lock_timeout\": 10,\n",
      "        \"thread_acquire_lock_timeout\": 10\n",
      "    },\n",
      "    \"redis\": {\n",
      "        \"host\": \"redis-10751.c252.ap-southeast-1-1.ec2.redns.redis-cloud.com\",\n",
      "        \"port\": 10751,\n",
      "        \"db\": 0,\n",
      "        \"username\": \"default\",\n",
      "        \"password\": \"Oawuz3bNcP9xznzupPisF1O2ok2SWHAP\",\n",
      "        \"config\": {\n",
      "            \"config_file\": \"/home/hieu/Workspace/projects/chatbone/src/chatbone/redis_config.toml\",\n",
      "            \"decode_responses\": true\n",
      "        }\n",
      "    },\n",
      "    \"user_secret_key\": \"abcxyz\"\n",
      "}\u001B[0m\n"
     ]
    },
    {
     "ename": "RedisKeyError",
     "evalue": "\"Cannot resolve 'encrypted_secret_rkey', you must 'refresh' default mode to load dynamic rkeys first.  \"",
     "output_type": "error",
     "traceback": [
      "\u001B[31m---------------------------------------------------------------------------\u001B[39m",
      "\u001B[31mRedisKeyError\u001B[39m                             Traceback (most recent call last)",
      "\u001B[36mCell\u001B[39m\u001B[36m \u001B[39m\u001B[32mIn[39]\u001B[39m\u001B[32m, line 30\u001B[39m\n\u001B[32m     27\u001B[39m userdata1 = create_userdata(\u001B[32m2\u001B[39m,\u001B[32m2\u001B[39m,uid1)\n\u001B[32m     28\u001B[39m userdata2 = create_userdata(\u001B[32m2\u001B[39m,\u001B[32m2\u001B[39m,uid2)\n\u001B[32m---> \u001B[39m\u001B[32m30\u001B[39m \u001B[38;5;28mprint\u001B[39m(\u001B[38;5;28;01mawait\u001B[39;00m userdata1.delete())\n\u001B[32m     31\u001B[39m \u001B[38;5;28mprint\u001B[39m( \u001B[38;5;28;01mawait\u001B[39;00m userdata1.save()) \u001B[38;5;66;03m# True\u001B[39;00m\n\u001B[32m     32\u001B[39m \u001B[38;5;28mprint\u001B[39m(\u001B[38;5;28;01mawait\u001B[39;00m userdata1.save() ) \u001B[38;5;66;03m# True\u001B[39;00m\n",
      "\u001B[36mFile \u001B[39m\u001B[32m~/Workspace/projects/chatbone/src/chatbone/broker.py:253\u001B[39m, in \u001B[36mChatboneData.delete\u001B[39m\u001B[34m(self)\u001B[39m\n\u001B[32m    251\u001B[39m \u001B[38;5;28;01mif\u001B[39;00m \u001B[38;5;28mself\u001B[39m.embedding:\n\u001B[32m    252\u001B[39m \t\u001B[38;5;28;01mraise\u001B[39;00m \u001B[38;5;167;01mValueError\u001B[39;00m(\u001B[33m\"\u001B[39m\u001B[33mEmbedding model cannot delete redis object.\u001B[39m\u001B[33m\"\u001B[39m)\n\u001B[32m--> \u001B[39m\u001B[32m253\u001B[39m \u001B[38;5;28;01mreturn\u001B[39;00m \u001B[38;5;28;01mawait\u001B[39;00m \u001B[38;5;28mself\u001B[39m.redis.delete(\u001B[38;5;28mself\u001B[39m.rkey, *(\u001B[38;5;28;01mawait\u001B[39;00m \u001B[38;5;28mself\u001B[39m.all_sub_rkeys))\n",
      "\u001B[36mFile \u001B[39m\u001B[32m~/Workspace/projects/chatbone/src/chatbone/broker.py:201\u001B[39m, in \u001B[36mChatboneData.all_sub_rkeys\u001B[39m\u001B[34m(self)\u001B[39m\n\u001B[32m    199\u001B[39m \u001B[38;5;129m@property\u001B[39m\n\u001B[32m    200\u001B[39m \u001B[38;5;28;01masync\u001B[39;00m \u001B[38;5;28;01mdef\u001B[39;00m\u001B[38;5;250m \u001B[39m\u001B[34mall_sub_rkeys\u001B[39m(\u001B[38;5;28mself\u001B[39m)->\u001B[38;5;28mlist\u001B[39m[\u001B[38;5;28mstr\u001B[39m]:\n\u001B[32m--> \u001B[39m\u001B[32m201\u001B[39m \t\u001B[38;5;28;01mreturn\u001B[39;00m \u001B[38;5;28;01mawait\u001B[39;00m asyncio.to_thread(\u001B[38;5;28mself\u001B[39m.get_all_sub_rkeys)\n",
      "\u001B[36mFile \u001B[39m\u001B[32m/usr/lib/python3.12/asyncio/threads.py:25\u001B[39m, in \u001B[36mto_thread\u001B[39m\u001B[34m(func, *args, **kwargs)\u001B[39m\n\u001B[32m     23\u001B[39m ctx = contextvars.copy_context()\n\u001B[32m     24\u001B[39m func_call = functools.partial(ctx.run, func, *args, **kwargs)\n\u001B[32m---> \u001B[39m\u001B[32m25\u001B[39m \u001B[38;5;28;01mreturn\u001B[39;00m \u001B[38;5;28;01mawait\u001B[39;00m loop.run_in_executor(\u001B[38;5;28;01mNone\u001B[39;00m, func_call)\n",
      "\u001B[36mFile \u001B[39m\u001B[32m/usr/lib/python3.12/concurrent/futures/thread.py:58\u001B[39m, in \u001B[36m_WorkItem.run\u001B[39m\u001B[34m(self)\u001B[39m\n\u001B[32m     55\u001B[39m     \u001B[38;5;28;01mreturn\u001B[39;00m\n\u001B[32m     57\u001B[39m \u001B[38;5;28;01mtry\u001B[39;00m:\n\u001B[32m---> \u001B[39m\u001B[32m58\u001B[39m     result = \u001B[38;5;28;43mself\u001B[39;49m\u001B[43m.\u001B[49m\u001B[43mfn\u001B[49m\u001B[43m(\u001B[49m\u001B[43m*\u001B[49m\u001B[38;5;28;43mself\u001B[39;49m\u001B[43m.\u001B[49m\u001B[43margs\u001B[49m\u001B[43m,\u001B[49m\u001B[43m \u001B[49m\u001B[43m*\u001B[49m\u001B[43m*\u001B[49m\u001B[38;5;28;43mself\u001B[39;49m\u001B[43m.\u001B[49m\u001B[43mkwargs\u001B[49m\u001B[43m)\u001B[49m\n\u001B[32m     59\u001B[39m \u001B[38;5;28;01mexcept\u001B[39;00m \u001B[38;5;167;01mBaseException\u001B[39;00m \u001B[38;5;28;01mas\u001B[39;00m exc:\n\u001B[32m     60\u001B[39m     \u001B[38;5;28mself\u001B[39m.future.set_exception(exc)\n",
      "\u001B[36mFile \u001B[39m\u001B[32m~/Workspace/projects/chatbone/src/chatbone/broker.py:153\u001B[39m, in \u001B[36mChatboneData.get_all_sub_rkeys\u001B[39m\u001B[34m(self)\u001B[39m\n\u001B[32m    149\u001B[39m \t\u001B[38;5;28;01mcontinue\u001B[39;00m\n\u001B[32m    151\u001B[39m \u001B[38;5;66;03m# Field case: Field exist, and a field value type must be ChatboneData,\u001B[39;00m\n\u001B[32m    152\u001B[39m \u001B[38;5;66;03m# list[ChatBoneData], Tuple[ChatBoneData,...] and dict[Any, ChatBoneData]\u001B[39;00m\n\u001B[32m--> \u001B[39m\u001B[32m153\u001B[39m \u001B[38;5;28;01mif\u001B[39;00m \u001B[38;5;28misinstance\u001B[39m(attr:=\u001B[38;5;28;43mgetattr\u001B[39;49m\u001B[43m(\u001B[49m\u001B[38;5;28;43mself\u001B[39;49m\u001B[43m,\u001B[49m\u001B[43m \u001B[49m\u001B[43mname\u001B[49m\u001B[43m)\u001B[49m,(ChatboneData, \u001B[38;5;28mlist\u001B[39m,\u001B[38;5;28mdict\u001B[39m,\u001B[38;5;28mtuple\u001B[39m) ) \u001B[38;5;129;01mand\u001B[39;00m f \u001B[38;5;129;01mis\u001B[39;00m \u001B[38;5;129;01mnot\u001B[39;00m \u001B[38;5;28;01mNone\u001B[39;00m :\n\u001B[32m    154\u001B[39m \torg = get_origin(f.annotation)\n\u001B[32m    156\u001B[39m \t\u001B[38;5;28;01mif\u001B[39;00m org \u001B[38;5;129;01mis\u001B[39;00m \u001B[38;5;28;01mNone\u001B[39;00m:\n\u001B[32m    157\u001B[39m \t\t\u001B[38;5;66;03m# Not any container or implicit container typehint case. We have to detect that because when implicit,\u001B[39;00m\n\u001B[32m    158\u001B[39m \t\t\u001B[38;5;66;03m# We do not know what exactly it stores, can be ChatboneData or not. Missing will lead to leak redis keys.\u001B[39;00m\n",
      "\u001B[36mFile \u001B[39m\u001B[32m~/Workspace/projects/chatbone/src/chatbone/broker.py:659\u001B[39m, in \u001B[36mUserData.encrypted_secret_rkey\u001B[39m\u001B[34m(self)\u001B[39m\n\u001B[32m    656\u001B[39m \u001B[38;5;129m@property\u001B[39m\n\u001B[32m    657\u001B[39m \u001B[38;5;28;01mdef\u001B[39;00m\u001B[38;5;250m \u001B[39m\u001B[34mencrypted_secret_rkey\u001B[39m(\u001B[38;5;28mself\u001B[39m):\n\u001B[32m    658\u001B[39m \t\u001B[38;5;28;01mif\u001B[39;00m \u001B[38;5;28mself\u001B[39m.encrypted_secret_token \u001B[38;5;129;01mis\u001B[39;00m \u001B[38;5;28;01mNone\u001B[39;00m:\n\u001B[32m--> \u001B[39m\u001B[32m659\u001B[39m \t\t\u001B[38;5;28;01mraise\u001B[39;00m RedisKeyError(\u001B[33m\"\u001B[39m\u001B[33mCannot resolve \u001B[39m\u001B[33m'\u001B[39m\u001B[33mencrypted_secret_rkey\u001B[39m\u001B[33m'\u001B[39m\u001B[33m, you must \u001B[39m\u001B[33m'\u001B[39m\u001B[33mrefresh\u001B[39m\u001B[33m'\u001B[39m\u001B[33m default mode to load dynamic rkeys first.  \u001B[39m\u001B[33m\"\u001B[39m)\n\u001B[32m    660\u001B[39m \t\u001B[38;5;28;01mreturn\u001B[39;00m \u001B[33mf\u001B[39m\u001B[33m\"\u001B[39m\u001B[38;5;132;01m{\u001B[39;00m\u001B[38;5;28mself\u001B[39m.rkey_prefix\u001B[38;5;132;01m}\u001B[39;00m\u001B[33m:<encrypted_token>:\u001B[39m\u001B[38;5;132;01m{\u001B[39;00m\u001B[38;5;28mself\u001B[39m.encrypted_secret_token\u001B[38;5;132;01m}\u001B[39;00m\u001B[33m\"\u001B[39m\n",
      "\u001B[31mRedisKeyError\u001B[39m: \"Cannot resolve 'encrypted_secret_rkey', you must 'refresh' default mode to load dynamic rkeys first.  \""
     ]
    }
   ],
   "execution_count": 39
  },
  {
   "metadata": {},
   "cell_type": "code",
   "source": "await REDIS.delete)",
   "id": "37c0c51a491751e7",
   "outputs": [],
   "execution_count": null
  },
  {
   "metadata": {},
   "cell_type": "code",
   "source": "new  = await userdata1.refresh()",
   "id": "5f472f8e9723bb5a",
   "outputs": [],
   "execution_count": null
  },
  {
   "metadata": {},
   "cell_type": "code",
   "source": [
    "print(await userdata1.save(skip_if_exist=False) ) # True\n",
    "print(await REDIS.ttl(userdata1.rkey)) # -2 means not exist, -1 means not 'expire'"
   ],
   "id": "3a2e77757a672b4e",
   "outputs": [],
   "execution_count": null
  },
  {
   "metadata": {},
   "cell_type": "code",
   "source": "len(await userdata1.all_sub_rkeys)",
   "id": "8e259ad5fa01d3cb",
   "outputs": [],
   "execution_count": null
  },
  {
   "metadata": {},
   "cell_type": "code",
   "source": [
    "token = await userdata1.get_encrypt_token()\n",
    "token"
   ],
   "id": "3b46f0fa50555fc1",
   "outputs": [],
   "execution_count": null
  },
  {
   "metadata": {},
   "cell_type": "code",
   "source": "data = UserData.verify_encrypt_token()",
   "id": "47c6b5d9592ca24a",
   "outputs": [],
   "execution_count": null
  },
  {
   "metadata": {
    "ExecuteTime": {
     "end_time": "2025-05-14T11:08:19.784025Z",
     "start_time": "2025-05-14T11:08:19.739721Z"
    }
   },
   "cell_type": "code",
   "source": [
    "# await REDIS.json().set(\"Abc\",'.',{\"c\":123})\n",
    "print(await REDIS.json().set(\"Abc\",\".\",{\"c\":123}))"
   ],
   "id": "12cc742dea554629",
   "outputs": [
    {
     "name": "stdout",
     "output_type": "stream",
     "text": [
      "True\n"
     ]
    }
   ],
   "execution_count": 200
  },
  {
   "metadata": {
    "ExecuteTime": {
     "end_time": "2025-05-14T11:08:20.652954Z",
     "start_time": "2025-05-14T11:08:20.610165Z"
    }
   },
   "cell_type": "code",
   "source": "await REDIS.json().set(\"Abc\",\"$.1\",[])\n",
   "id": "3d5d63de12993bd6",
   "outputs": [
    {
     "data": {
      "text/plain": [
       "True"
      ]
     },
     "execution_count": 201,
     "metadata": {},
     "output_type": "execute_result"
    }
   ],
   "execution_count": 201
  },
  {
   "metadata": {
    "ExecuteTime": {
     "end_time": "2025-05-14T11:08:21.356897Z",
     "start_time": "2025-05-14T11:08:21.315112Z"
    }
   },
   "cell_type": "code",
   "source": "await REDIS.json().arrappend(\"Abc\",\"$.1\",333)",
   "id": "292e217330badd78",
   "outputs": [
    {
     "data": {
      "text/plain": [
       "[1]"
      ]
     },
     "execution_count": 202,
     "metadata": {},
     "output_type": "execute_result"
    }
   ],
   "execution_count": 202
  },
  {
   "metadata": {
    "ExecuteTime": {
     "end_time": "2025-05-14T11:08:21.923041Z",
     "start_time": "2025-05-14T11:08:21.885318Z"
    }
   },
   "cell_type": "code",
   "source": [
    "async with REDIS.pipeline(transaction=True) as pipeline:\n",
    "\n",
    "\tawait pipeline.json().set(\"Abc\",\".\",{\"c\":123},nx=True)\n",
    "\n",
    "\tawait pipeline.json().set(\"Abc\",\"$.a\",[],nx=True)\n",
    "\n",
    "\tawait pipeline.json().arrappend(\"Abc\",\"$.a\",*[i for i in range(10)])\n",
    "\n",
    "\tr = await pipeline.execute(raise_on_error=False)\n",
    "r"
   ],
   "id": "aa7742dc2932dbda",
   "outputs": [
    {
     "data": {
      "text/plain": [
       "[None, True, [10]]"
      ]
     },
     "execution_count": 203,
     "metadata": {},
     "output_type": "execute_result"
    }
   ],
   "execution_count": 203
  },
  {
   "metadata": {
    "ExecuteTime": {
     "end_time": "2025-05-14T11:08:24.570246Z",
     "start_time": "2025-05-14T11:08:24.527266Z"
    }
   },
   "cell_type": "code",
   "source": [
    "async with REDIS.pipeline(transaction=True) as pipeline:\n",
    "\tawait pipeline.json().arrtrim(\"Abc\",\"$.c\",3,5)\n",
    "\tr = await pipeline.execute(raise_on_error=False)\n",
    "# print(await REDIS.json().arrlen(\"Abc\",\"$.a\"))\n",
    "r"
   ],
   "id": "fd0e9c80ffb530d7",
   "outputs": [
    {
     "data": {
      "text/plain": [
       "[[None]]"
      ]
     },
     "execution_count": 204,
     "metadata": {},
     "output_type": "execute_result"
    }
   ],
   "execution_count": 204
  },
  {
   "metadata": {},
   "cell_type": "code",
   "outputs": [],
   "execution_count": null,
   "source": "",
   "id": "ca163c868c9c76b0"
  },
  {
   "metadata": {
    "ExecuteTime": {
     "end_time": "2025-05-14T11:08:28.604666Z",
     "start_time": "2025-05-14T11:08:28.528748Z"
    }
   },
   "cell_type": "code",
   "source": [
    "await REDIS.json().set(\"Abc\",\"$.d\",{\"a\":{\"s\":1,\"mm\":2}})\n",
    "print(await REDIS.json().get(\"Abc\",\"$.d\",\"$.c\",\"$.sasa\"))"
   ],
   "id": "cd3dd16bebe12c7",
   "outputs": [
    {
     "name": "stdout",
     "output_type": "stream",
     "text": [
      "{'$.sasa': [], '$.c': [123], '$.d': [{'a': {'s': 1, 'mm': 2}}]}\n"
     ]
    }
   ],
   "execution_count": 205
  },
  {
   "metadata": {
    "ExecuteTime": {
     "end_time": "2025-05-14T11:20:34.101646Z",
     "start_time": "2025-05-14T11:20:34.063025Z"
    }
   },
   "cell_type": "code",
   "source": [
    "async with REDIS.pipeline(transaction=True) as pipeline:\n",
    "\t# await pipeline.json().get(\"Abc\",\".d\",\".c\")\n",
    "\t# await pipeline.json().get(\"Abc\",\".d\",\".c\")\n",
    "\t# await pipeline.json().get(\"Abc\",\".d\",\".c\")\n",
    "\t# await pipeline.json().get(\"Abc\",\"$\")\n",
    "\t# await pipeline.json().get(\"Abc\",\".\")\n",
    "\t# await pipeline.json().get(\"Abc\",\"$\")\n",
    "\tawait pipeline.json().get(\"Abc\",\".c\",\".d.a\",\".a\")\n",
    "\tawait pipeline.json().get(\"Abc\",\".c\",\".d\",\".a\")\n",
    "\tr = await pipeline.execute()\n",
    "\n",
    "for k in r:\n",
    "\tprint(k)\n"
   ],
   "id": "d46be853e11920a2",
   "outputs": [
    {
     "name": "stdout",
     "output_type": "stream",
     "text": [
      "{'.a': [0, 1, 2, 3, 4, 5, 6, 7, 8, 9], '.c': 123, '.d.a': {'s': 1, 'mm': 2}}\n",
      "{'.c': 123, '.a': [0, 1, 2, 3, 4, 5, 6, 7, 8, 9], '.d': {'a': {'s': 1, 'mm': 2}}}\n"
     ]
    }
   ],
   "execution_count": 230
  },
  {
   "metadata": {
    "ExecuteTime": {
     "end_time": "2025-05-14T11:07:03.322389Z",
     "start_time": "2025-05-14T11:07:03.244762Z"
    }
   },
   "cell_type": "code",
   "source": [
    "await REDIS.json().set(\"c\",\"$\",123)\n",
    "await REDIS.json().set(\"c\",\"$\",{})"
   ],
   "id": "dbea5ee6b4029014",
   "outputs": [
    {
     "data": {
      "text/plain": [
       "True"
      ]
     },
     "execution_count": 193,
     "metadata": {},
     "output_type": "execute_result"
    }
   ],
   "execution_count": 193
  },
  {
   "metadata": {
    "ExecuteTime": {
     "end_time": "2025-05-14T11:07:43.288055Z",
     "start_time": "2025-05-14T11:07:43.237430Z"
    }
   },
   "cell_type": "code",
   "source": "print(await REDIS.json().get(\"c\",\"$.a.ed\"))",
   "id": "29eef7e04ce6e64a",
   "outputs": [
    {
     "name": "stdout",
     "output_type": "stream",
     "text": [
      "None\n"
     ]
    }
   ],
   "execution_count": 199
  },
  {
   "metadata": {
    "ExecuteTime": {
     "end_time": "2025-05-16T12:12:06.281186Z",
     "start_time": "2025-05-16T12:12:06.200626Z"
    }
   },
   "cell_type": "code",
   "source": [
    "await REDIS.json().set(\"abc\",\"$\",{\"ls\":\"aaa\",\"ha\":{\"ahh\":313},\"exlist\":[1,2,3,4]})\n",
    "await REDIS.json().get(\"abc\",\".ha.ahh\",\".ls\") #get return None"
   ],
   "id": "dc9bd64e0b26f760",
   "outputs": [
    {
     "data": {
      "text/plain": [
       "{'.ls': 'aaa', '.ha.ahh': 313}"
      ]
     },
     "execution_count": 63,
     "metadata": {},
     "output_type": "execute_result"
    }
   ],
   "execution_count": 63
  },
  {
   "metadata": {
    "ExecuteTime": {
     "end_time": "2025-05-16T12:13:18.540659Z",
     "start_time": "2025-05-16T12:13:18.323669Z"
    }
   },
   "cell_type": "code",
   "source": "print(await REDIS.json().arrappend(\"abc\",\".ls\",3,3,3,3))",
   "id": "a7005e7d7ff58ef3",
   "outputs": [
    {
     "ename": "ResponseError",
     "evalue": "Path '.ls' does not exist or not an array",
     "output_type": "error",
     "traceback": [
      "\u001B[31m---------------------------------------------------------------------------\u001B[39m",
      "\u001B[31mResponseError\u001B[39m                             Traceback (most recent call last)",
      "\u001B[36mCell\u001B[39m\u001B[36m \u001B[39m\u001B[32mIn[66]\u001B[39m\u001B[32m, line 1\u001B[39m\n\u001B[32m----> \u001B[39m\u001B[32m1\u001B[39m \u001B[38;5;28mprint\u001B[39m(\u001B[38;5;28;01mawait\u001B[39;00m REDIS.json().arrappend(\u001B[33m\"\u001B[39m\u001B[33mabc\u001B[39m\u001B[33m\"\u001B[39m,\u001B[33m\"\u001B[39m\u001B[33m.ls\u001B[39m\u001B[33m\"\u001B[39m,\u001B[32m3\u001B[39m,\u001B[32m3\u001B[39m,\u001B[32m3\u001B[39m,\u001B[32m3\u001B[39m))\n",
      "\u001B[36mFile \u001B[39m\u001B[32m~/Workspace/projects/chatbone/.venv/lib/python3.12/site-packages/redis/asyncio/client.py:518\u001B[39m, in \u001B[36mRedis.execute_command\u001B[39m\u001B[34m(self, *args, **options)\u001B[39m\n\u001B[32m    516\u001B[39m     \u001B[38;5;28;01mawait\u001B[39;00m \u001B[38;5;28mself\u001B[39m._single_conn_lock.acquire()\n\u001B[32m    517\u001B[39m \u001B[38;5;28;01mtry\u001B[39;00m:\n\u001B[32m--> \u001B[39m\u001B[32m518\u001B[39m     \u001B[38;5;28;01mreturn\u001B[39;00m \u001B[38;5;28;01mawait\u001B[39;00m conn.retry.call_with_retry(\n\u001B[32m    519\u001B[39m         \u001B[38;5;28;01mlambda\u001B[39;00m: \u001B[38;5;28mself\u001B[39m._send_command_parse_response(\n\u001B[32m    520\u001B[39m             conn, command_name, *args, **options\n\u001B[32m    521\u001B[39m         ),\n\u001B[32m    522\u001B[39m         \u001B[38;5;28;01mlambda\u001B[39;00m error: \u001B[38;5;28mself\u001B[39m._disconnect_raise(conn, error),\n\u001B[32m    523\u001B[39m     )\n\u001B[32m    524\u001B[39m \u001B[38;5;28;01mfinally\u001B[39;00m:\n\u001B[32m    525\u001B[39m     \u001B[38;5;28;01mif\u001B[39;00m \u001B[38;5;28mself\u001B[39m.single_connection_client:\n",
      "\u001B[36mFile \u001B[39m\u001B[32m~/Workspace/projects/chatbone/.venv/lib/python3.12/site-packages/redis/asyncio/retry.py:59\u001B[39m, in \u001B[36mRetry.call_with_retry\u001B[39m\u001B[34m(self, do, fail)\u001B[39m\n\u001B[32m     57\u001B[39m \u001B[38;5;28;01mwhile\u001B[39;00m \u001B[38;5;28;01mTrue\u001B[39;00m:\n\u001B[32m     58\u001B[39m     \u001B[38;5;28;01mtry\u001B[39;00m:\n\u001B[32m---> \u001B[39m\u001B[32m59\u001B[39m         \u001B[38;5;28;01mreturn\u001B[39;00m \u001B[38;5;28;01mawait\u001B[39;00m do()\n\u001B[32m     60\u001B[39m     \u001B[38;5;28;01mexcept\u001B[39;00m \u001B[38;5;28mself\u001B[39m._supported_errors \u001B[38;5;28;01mas\u001B[39;00m error:\n\u001B[32m     61\u001B[39m         failures += \u001B[32m1\u001B[39m\n",
      "\u001B[36mFile \u001B[39m\u001B[32m~/Workspace/projects/chatbone/.venv/lib/python3.12/site-packages/redis/asyncio/client.py:492\u001B[39m, in \u001B[36mRedis._send_command_parse_response\u001B[39m\u001B[34m(self, conn, command_name, *args, **options)\u001B[39m\n\u001B[32m    488\u001B[39m \u001B[38;5;250m\u001B[39m\u001B[33;03m\"\"\"\u001B[39;00m\n\u001B[32m    489\u001B[39m \u001B[33;03mSend a command and parse the response\u001B[39;00m\n\u001B[32m    490\u001B[39m \u001B[33;03m\"\"\"\u001B[39;00m\n\u001B[32m    491\u001B[39m \u001B[38;5;28;01mawait\u001B[39;00m conn.send_command(*args)\n\u001B[32m--> \u001B[39m\u001B[32m492\u001B[39m \u001B[38;5;28;01mreturn\u001B[39;00m \u001B[38;5;28;01mawait\u001B[39;00m \u001B[38;5;28mself\u001B[39m.parse_response(conn, command_name, **options)\n",
      "\u001B[36mFile \u001B[39m\u001B[32m~/Workspace/projects/chatbone/.venv/lib/python3.12/site-packages/redis/asyncio/client.py:539\u001B[39m, in \u001B[36mRedis.parse_response\u001B[39m\u001B[34m(self, connection, command_name, **options)\u001B[39m\n\u001B[32m    537\u001B[39m         options.pop(NEVER_DECODE)\n\u001B[32m    538\u001B[39m     \u001B[38;5;28;01melse\u001B[39;00m:\n\u001B[32m--> \u001B[39m\u001B[32m539\u001B[39m         response = \u001B[38;5;28;01mawait\u001B[39;00m connection.read_response()\n\u001B[32m    540\u001B[39m \u001B[38;5;28;01mexcept\u001B[39;00m ResponseError:\n\u001B[32m    541\u001B[39m     \u001B[38;5;28;01mif\u001B[39;00m EMPTY_RESPONSE \u001B[38;5;129;01min\u001B[39;00m options:\n",
      "\u001B[36mFile \u001B[39m\u001B[32m~/Workspace/projects/chatbone/.venv/lib/python3.12/site-packages/redis/asyncio/connection.py:810\u001B[39m, in \u001B[36mAbstractConnection.read_response\u001B[39m\u001B[34m(self, disable_decoding, timeout, disconnect_on_error)\u001B[39m\n\u001B[32m    807\u001B[39m     \u001B[38;5;28mself\u001B[39m.next_health_check = next_time\n\u001B[32m    809\u001B[39m \u001B[38;5;28;01mif\u001B[39;00m \u001B[38;5;28misinstance\u001B[39m(response, ResponseError):\n\u001B[32m--> \u001B[39m\u001B[32m810\u001B[39m     \u001B[38;5;28;01mraise\u001B[39;00m response \u001B[38;5;28;01mfrom\u001B[39;00m\u001B[38;5;250m \u001B[39m\u001B[38;5;28;01mNone\u001B[39;00m\n\u001B[32m    811\u001B[39m \u001B[38;5;28;01mreturn\u001B[39;00m response\n",
      "\u001B[31mResponseError\u001B[39m: Path '.ls' does not exist or not an array"
     ]
    }
   ],
   "execution_count": 66
  },
  {
   "metadata": {
    "ExecuteTime": {
     "end_time": "2025-05-15T04:02:15.625717Z",
     "start_time": "2025-05-15T04:02:15.593736Z"
    }
   },
   "cell_type": "code",
   "source": "await REDIS.json().get(\"ascasffffffff\",\".xsaxas\")",
   "id": "28be7fb826c9b049",
   "outputs": [],
   "execution_count": 24
  },
  {
   "metadata": {},
   "cell_type": "code",
   "source": "await REDIS.json().arrappend(\"ddd\",\".ls\",1,2,3,4)",
   "id": "20f308f059674799",
   "outputs": [],
   "execution_count": null
  },
  {
   "metadata": {
    "ExecuteTime": {
     "end_time": "2025-05-15T07:17:23.300985Z",
     "start_time": "2025-05-15T07:17:23.195440Z"
    }
   },
   "cell_type": "code",
   "source": [
    "from pydantic import BaseModel\n",
    "class A(BaseModel):\n",
    "\ta:int = 5\n",
    "\tb:None=None\n",
    "\t@property\n",
    "\tasync def aa(self):\n",
    "\t\treturn \"aa\"\n",
    "a = A()\n",
    "# getattr(a,'aa')\n",
    "\n",
    "await REDIS.json().set(\"a\",'.',a.model_dump())\n",
    "n = await REDIS.json().get(\"a\",'.b')\n",
    "aa = await REDIS.json().get(\"a\",'a')\n",
    "print(type(aa))\n",
    "type(n)"
   ],
   "id": "8d232277d4ef0a6c",
   "outputs": [
    {
     "name": "stdout",
     "output_type": "stream",
     "text": [
      "<class 'int'>\n"
     ]
    },
    {
     "data": {
      "text/plain": [
       "str"
      ]
     },
     "execution_count": 41,
     "metadata": {},
     "output_type": "execute_result"
    }
   ],
   "execution_count": 41
  },
  {
   "metadata": {
    "ExecuteTime": {
     "end_time": "2025-05-15T11:34:31.990925Z",
     "start_time": "2025-05-15T11:34:31.987603Z"
    }
   },
   "cell_type": "code",
   "source": [
    "from typing import get_origin, get_args\n",
    "get_origin(list[int|None]|None)"
   ],
   "id": "17c4d49528829b7b",
   "outputs": [
    {
     "data": {
      "text/plain": [
       "types.UnionType"
      ]
     },
     "execution_count": 45,
     "metadata": {},
     "output_type": "execute_result"
    }
   ],
   "execution_count": 45
  },
  {
   "metadata": {
    "ExecuteTime": {
     "end_time": "2025-05-15T13:07:42.995353Z",
     "start_time": "2025-05-15T13:07:42.992225Z"
    }
   },
   "cell_type": "code",
   "source": [
    "from datetime import  datetime\n",
    "datetime.min"
   ],
   "id": "f8d4e58d1c58d9ca",
   "outputs": [
    {
     "data": {
      "text/plain": [
       "datetime.datetime(1, 1, 1, 0, 0)"
      ]
     },
     "execution_count": 46,
     "metadata": {},
     "output_type": "execute_result"
    }
   ],
   "execution_count": 46
  },
  {
   "metadata": {
    "ExecuteTime": {
     "end_time": "2025-05-16T08:44:54.428688Z",
     "start_time": "2025-05-16T08:44:54.423847Z"
    }
   },
   "cell_type": "code",
   "source": [
    "import json\n",
    "json.dumps([1,2,3])"
   ],
   "id": "b110c58233a02755",
   "outputs": [
    {
     "data": {
      "text/plain": [
       "'[1, 2, 3]'"
      ]
     },
     "execution_count": 2,
     "metadata": {},
     "output_type": "execute_result"
    }
   ],
   "execution_count": 2
  },
  {
   "metadata": {
    "ExecuteTime": {
     "end_time": "2025-05-16T09:07:52.940786Z",
     "start_time": "2025-05-16T09:07:52.936573Z"
    }
   },
   "cell_type": "code",
   "source": [
    "data = {\"a\":{'b':5}}\n",
    "from pydantic import BaseModel\n",
    "import json\n",
    "class B(BaseModel):\n",
    "\tb:int\n",
    "\n",
    "class Data(BaseModel):\n",
    "\ta: B\n",
    "\n",
    "print(Data.model_validate_json(json.dumps(data)))"
   ],
   "id": "85a32c1f27c97adb",
   "outputs": [
    {
     "name": "stdout",
     "output_type": "stream",
     "text": [
      "a=B(b=5)\n"
     ]
    }
   ],
   "execution_count": 9
  },
  {
   "metadata": {
    "ExecuteTime": {
     "end_time": "2025-05-16T09:11:56.703129Z",
     "start_time": "2025-05-16T09:11:56.696204Z"
    }
   },
   "cell_type": "code",
   "source": [
    "a = [1,2,3]\n",
    "b = json.dumps(a)\n",
    "print(b, type(b))\n",
    "c = json.loads(b)\n",
    "print(c,type(c))"
   ],
   "id": "37c38a2e0946d5be",
   "outputs": [
    {
     "name": "stdout",
     "output_type": "stream",
     "text": [
      "[1, 2, 3] <class 'str'>\n",
      "[1, 2, 3] <class 'list'>\n"
     ]
    }
   ],
   "execution_count": 12
  },
  {
   "metadata": {
    "ExecuteTime": {
     "end_time": "2025-05-16T10:06:11.119112Z",
     "start_time": "2025-05-16T10:06:11.105225Z"
    }
   },
   "cell_type": "code",
   "source": [
    "data = [['test_stream', [('1747389494281-0', {'user_input': '', 'addition_info': 'null', 'data': '{\"id\":\"068270c0-14f2-700c-8000-22a71d11823c\",\"created_at\":\"2025-05-16T09:57:21.309097Z\",\"dump\":\"edaede\"}'}), ('1747389494418-0', {'user_input': '', 'addition_info': 'null', 'data': '{\"id\":\"068270c0-14f2-700c-8000-22a71d11823c\",\"created_at\":\"2025-05-16T09:57:21.309097Z\",\"dump\":\"edaede\"}'})]]]\n",
    "len(data[0][1])"
   ],
   "id": "ac7ef688618aabcc",
   "outputs": [
    {
     "data": {
      "text/plain": [
       "2"
      ]
     },
     "execution_count": 37,
     "metadata": {},
     "output_type": "execute_result"
    }
   ],
   "execution_count": 37
  },
  {
   "metadata": {
    "ExecuteTime": {
     "end_time": "2025-05-16T11:02:09.532600Z",
     "start_time": "2025-05-16T11:02:09.497673Z"
    }
   },
   "cell_type": "code",
   "source": [
    "await REDIS.xadd(\"sadsa\",{\"a\":1})\n",
    "# await REDIS.xread({\"sadsa\":0},count = 10,)"
   ],
   "id": "95056ebd0b5bec5",
   "outputs": [
    {
     "data": {
      "text/plain": [
       "'1747393329544-0'"
      ]
     },
     "execution_count": 62,
     "metadata": {},
     "output_type": "execute_result"
    }
   ],
   "execution_count": 62
  },
  {
   "metadata": {},
   "cell_type": "code",
   "outputs": [],
   "execution_count": null,
   "source": "",
   "id": "86eba5b98345732a"
  }
 ],
 "metadata": {
  "kernelspec": {
   "display_name": "Python 3",
   "language": "python",
   "name": "python3"
  },
  "language_info": {
   "codemirror_mode": {
    "name": "ipython",
    "version": 2
   },
   "file_extension": ".py",
   "mimetype": "text/x-python",
   "name": "python",
   "nbconvert_exporter": "python",
   "pygments_lexer": "ipython2",
   "version": "2.7.6"
  }
 },
 "nbformat": 4,
 "nbformat_minor": 5
}
