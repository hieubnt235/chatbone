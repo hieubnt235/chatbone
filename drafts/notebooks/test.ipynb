{
 "cells": [
  {
   "cell_type": "code",
   "id": "initial_id",
   "metadata": {
    "collapsed": true,
    "ExecuteTime": {
     "end_time": "2025-02-11T03:51:51.555715Z",
     "start_time": "2025-02-11T03:51:51.550519Z"
    }
   },
   "source": [
    "from transformers.utils import get_json_schema\n",
    "from src.chatbone import algebra\n",
    "get_json_schema(algebra[0])"
   ],
   "outputs": [
    {
     "data": {
      "text/plain": [
       "{'type': 'function',\n",
       " 'function': {'name': 'add',\n",
       "  'description': 'A function to add two numbers and return their sum. This function takes two\\nfloating-point numbers as input and produces their sum as output.',\n",
       "  'parameters': {'type': 'object',\n",
       "   'properties': {'a': {'type': 'number',\n",
       "     'description': 'The first number to be added.'},\n",
       "    'b': {'type': 'number', 'description': 'The second number to be added.'}},\n",
       "   'required': ['a', 'b']},\n",
       "  'return': {'type': 'number',\n",
       "   'description': 'float: The sum of the input numbers.'}}}"
      ]
     },
     "execution_count": 2,
     "metadata": {},
     "output_type": "execute_result"
    }
   ],
   "execution_count": 2
  },
  {
   "metadata": {
    "ExecuteTime": {
     "end_time": "2025-02-11T03:59:07.739343Z",
     "start_time": "2025-02-11T03:59:07.732236Z"
    }
   },
   "cell_type": "code",
   "source": [
    "from langchain_core.tools import tool, StructuredTool\n",
    "StructuredTool.from_function()\n",
    "@tool\n",
    "def add(a: float, b: float) -> float:\n",
    "    \"\"\"\n",
    "    A function to add two numbers and return their sum. This function takes two\n",
    "    floating-point numbers as input and produces their sum as output.\n",
    "    Args:\n",
    "        a: The first number to be added.\n",
    "        b: The second number to be added.\n",
    "\n",
    "    Returns:\n",
    "        float: The sum of the input numbers.\n",
    "    \"\"\"\n",
    "    return a + b\n",
    "add.args_schema.model_json_schema()"
   ],
   "id": "b3c4d545a1b6be90",
   "outputs": [
    {
     "data": {
      "text/plain": [
       "{'description': 'A function to add two numbers and return their sum. This function takes two\\nfloating-point numbers as input and produces their sum as output.\\nArgs:\\n    a: The first number to be added.\\n    b: The second number to be added.\\n\\nReturns:\\n    float: The sum of the input numbers.',\n",
       " 'properties': {'a': {'title': 'A', 'type': 'number'},\n",
       "  'b': {'title': 'B', 'type': 'number'}},\n",
       " 'required': ['a', 'b'],\n",
       " 'title': 'add',\n",
       " 'type': 'object'}"
      ]
     },
     "execution_count": 10,
     "metadata": {},
     "output_type": "execute_result"
    }
   ],
   "execution_count": 10
  },
  {
   "metadata": {
    "ExecuteTime": {
     "end_time": "2025-02-11T04:00:24.080199Z",
     "start_time": "2025-02-11T04:00:24.076221Z"
    }
   },
   "cell_type": "code",
   "source": [
    "get_json_schema(add.func)\n",
    "add.name"
   ],
   "id": "dcdf14a2a72c62bf",
   "outputs": [
    {
     "data": {
      "text/plain": [
       "{'type': 'function',\n",
       " 'function': {'name': 'add',\n",
       "  'description': 'A function to add two numbers and return their sum. This function takes two\\nfloating-point numbers as input and produces their sum as output.',\n",
       "  'parameters': {'type': 'object',\n",
       "   'properties': {'a': {'type': 'number',\n",
       "     'description': 'The first number to be added.'},\n",
       "    'b': {'type': 'number', 'description': 'The second number to be added.'}},\n",
       "   'required': ['a', 'b']},\n",
       "  'return': {'type': 'number',\n",
       "   'description': 'float: The sum of the input numbers.'}}}"
      ]
     },
     "execution_count": 14,
     "metadata": {},
     "output_type": "execute_result"
    }
   ],
   "execution_count": 14
  },
  {
   "metadata": {
    "ExecuteTime": {
     "end_time": "2025-02-11T10:00:34.339637Z",
     "start_time": "2025-02-11T10:00:26.264295Z"
    }
   },
   "cell_type": "code",
   "source": [
    "from src.chatbone import HFPipelineChatModel\n",
    "chat_model = HFPipelineChatModel.from_config()"
   ],
   "id": "66eac66c2b7f5e0a",
   "outputs": [
    {
     "name": "stdout",
     "output_type": "stream",
     "text": [
      "Load HFPipelineChatModel with config:\n",
      "{'model_path': 'Qwen/Qwen2.5-1.5B-Instruct', 'bitsandbytes_kwargs': {'load_in_8bit': True}, 'model_kwargs': {'low_cpu_mem_usage': True}, 'tokenizer_kwargs': {}, 'pipeline_kwargs': {'task': 'text-generation', 'device_map': 'auto', 'max_new_tokens': 500, 'return_full_text': False}}\n"
     ]
    },
    {
     "name": "stderr",
     "output_type": "stream",
     "text": [
      "Device set to use cuda:0\n"
     ]
    }
   ],
   "execution_count": 1
  },
  {
   "metadata": {
    "ExecuteTime": {
     "end_time": "2025-02-11T09:49:16.066338Z",
     "start_time": "2025-02-11T09:49:16.060259Z"
    }
   },
   "cell_type": "code",
   "source": [
    "from pathlib import Path\n",
    "Path('./default_hf_pipeline_chat_cfg.toml').resolve().as_posix()"
   ],
   "id": "16ebcc2c6e33b393",
   "outputs": [
    {
     "data": {
      "text/plain": [
       "'/home/hieu/Workspace/projects/chatbone/notebooks/default_hf_pipeline_chat_cfg.toml'"
      ]
     },
     "execution_count": 1,
     "metadata": {},
     "output_type": "execute_result"
    }
   ],
   "execution_count": 1
  },
  {
   "metadata": {
    "ExecuteTime": {
     "end_time": "2025-02-11T09:59:23.606982Z",
     "start_time": "2025-02-11T09:59:23.604095Z"
    }
   },
   "cell_type": "code",
   "source": [
    "from src.chatbone import CONFIGS_PATH\n",
    "CONFIGS_PATH.joinpath('default_hf_pipeline_chat_cfg.toml').as_posix()"
   ],
   "id": "1a9b3ce49d6ca0b0",
   "outputs": [
    {
     "data": {
      "text/plain": [
       "PosixPath('/home/hieu/Workspace/projects/chatbone/configs/default_hf_pipeline_chat_cfg.toml')"
      ]
     },
     "execution_count": 4,
     "metadata": {},
     "output_type": "execute_result"
    }
   ],
   "execution_count": 4
  }
 ],
 "metadata": {
  "kernelspec": {
   "display_name": "Python 3",
   "language": "python",
   "name": "python3"
  },
  "language_info": {
   "codemirror_mode": {
    "name": "ipython",
    "version": 2
   },
   "file_extension": ".py",
   "mimetype": "text/x-python",
   "name": "python",
   "nbconvert_exporter": "python",
   "pygments_lexer": "ipython2",
   "version": "2.7.6"
  }
 },
 "nbformat": 4,
 "nbformat_minor": 5
}
