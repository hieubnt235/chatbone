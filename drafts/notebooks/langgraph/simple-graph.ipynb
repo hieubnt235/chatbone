{
 "cells": [
  {
   "metadata": {},
   "cell_type": "markdown",
   "source": "# Graph  elements",
   "id": "7f8ded7348155fe7"
  },
  {
   "metadata": {},
   "cell_type": "markdown",
   "source": "## State",
   "id": "114352fb57cdf82c"
  },
  {
   "cell_type": "code",
   "id": "initial_id",
   "metadata": {
    "collapsed": true,
    "ExecuteTime": {
     "end_time": "2025-02-09T11:29:51.900883Z",
     "start_time": "2025-02-09T11:29:51.771048Z"
    }
   },
   "source": [
    "from typing import TypedDict\n",
    "\n",
    "\n",
    "\n",
    "class State(TypedDict):\n",
    "    graph_state:str"
   ],
   "outputs": [],
   "execution_count": 1
  },
  {
   "metadata": {},
   "cell_type": "markdown",
   "source": [
    "## Nodes\n",
    "just a python function with the first argument is state.\n",
    "\n",
    "Each node will override the prior state value."
   ],
   "id": "4a4c713f30ebe1ca"
  },
  {
   "metadata": {
    "ExecuteTime": {
     "end_time": "2025-02-09T11:29:51.906923Z",
     "start_time": "2025-02-09T11:29:51.904301Z"
    }
   },
   "cell_type": "code",
   "source": [
    "def node_1(state):\n",
    "    print(\"__NODE1__\")\n",
    "    return dict(graph_state=state['graph_state'] +  \"IIII am\")\n",
    "def node_2(state):\n",
    "    print(\"__NODE2__\")\n",
    "    return dict(graph_state=state['graph_state'] +  \"sad\")\n",
    "def node_3(state):\n",
    "    print(\"__NODE3__\")\n",
    "    return dict(graph_state=state['graph_state'] +  \"happy\")\n"
   ],
   "id": "fd6adf73cde2c5cf",
   "outputs": [],
   "execution_count": 2
  },
  {
   "metadata": {},
   "cell_type": "markdown",
   "source": [
    "## Edges\n",
    "Simply connect nodes\n",
    "\n",
    "Normal edges and conditional edges."
   ],
   "id": "7f98d39b3ba9c10d"
  },
  {
   "metadata": {
    "ExecuteTime": {
     "end_time": "2025-02-09T11:29:52.009777Z",
     "start_time": "2025-02-09T11:29:52.007391Z"
    }
   },
   "cell_type": "code",
   "source": [
    "import random\n",
    "from typing import Literal\n",
    "def decide_node(state) -> Literal[\"node_2\",\"node_3\"]:\n",
    "    state = state['graph_state']\n",
    "    if random.random()<0.5:\n",
    "        return \"node_2\"\n",
    "    return \"node_3\""
   ],
   "id": "6995b553c4d69672",
   "outputs": [],
   "execution_count": 3
  },
  {
   "metadata": {},
   "cell_type": "markdown",
   "source": [
    "## Graph Construction\n",
    "Steps:\n",
    "1. Initialize StateGraph with State class we define above.\n",
    "2. Add Nodes and Edges, and special START and END nodes"
   ],
   "id": "57a6e346551a478"
  },
  {
   "metadata": {
    "ExecuteTime": {
     "end_time": "2025-02-09T11:29:52.665358Z",
     "start_time": "2025-02-09T11:29:52.057289Z"
    }
   },
   "cell_type": "code",
   "source": [
    "from langgraph.graph import StateGraph, START, END\n",
    "from IPython.display import Image,display\n",
    "builder = StateGraph(State)\n",
    "\n",
    "builder.add_node(\"node_1\",node_1)\n",
    "builder.add_node(\"node_2\",node_2)\n",
    "builder.add_node(\"node_3\",node_3)\n",
    "\n",
    "builder.add_edge(START,\"node_1\")\n",
    "builder.add_conditional_edges(\"node_1\",decide_node)\n",
    "builder.add_edge(\"node_2\",END)\n",
    "builder.add_edge(\"node_3\",END)\n",
    "\n",
    "graph = builder.compile()\n",
    "draw_graph = graph.get_graph()"
   ],
   "id": "2068a9acf73d3897",
   "outputs": [],
   "execution_count": 4
  },
  {
   "metadata": {
    "ExecuteTime": {
     "end_time": "2025-02-09T11:29:52.672923Z",
     "start_time": "2025-02-09T11:29:52.671059Z"
    }
   },
   "cell_type": "code",
   "source": "# display(Image(draw_graph.draw_mermaid_png())) # wait for draw mermaid",
   "id": "eaf4c0df88ddce55",
   "outputs": [],
   "execution_count": 5
  },
  {
   "metadata": {
    "ExecuteTime": {
     "end_time": "2025-02-09T11:29:52.735458Z",
     "start_time": "2025-02-09T11:29:52.724225Z"
    }
   },
   "cell_type": "code",
   "source": "graph.invoke(dict(graph_state = \"Hi im Hieu\"))",
   "id": "c4e6ebe6f6d36536",
   "outputs": [
    {
     "name": "stdout",
     "output_type": "stream",
     "text": [
      "__NODE1__\n",
      "__NODE2__\n"
     ]
    },
    {
     "data": {
      "text/plain": [
       "{'graph_state': 'Hi im HieuIIII amsad'}"
      ]
     },
     "execution_count": 6,
     "metadata": {},
     "output_type": "execute_result"
    }
   ],
   "execution_count": 6
  },
  {
   "metadata": {},
   "cell_type": "markdown",
   "source": [
    "# Message State\n",
    "We want when messages go out a node, new message is APPEND to old messages state. And node is UPDATE (OVERRIDE) prior state values. So we use Reducer.\n",
    "\n",
    "\n"
   ],
   "id": "d31edc067856b8e1"
  },
  {
   "metadata": {
    "ExecuteTime": {
     "end_time": "2025-02-09T11:29:57.386378Z",
     "start_time": "2025-02-09T11:29:52.771097Z"
    }
   },
   "cell_type": "code",
   "source": [
    "from langchain_core.messages import AnyMessage, HumanMessage, AIMessage\n",
    "from langgraph.graph.message import add_messages, MessagesState\n",
    "from transformers import TextGenerationPipeline\n",
    "# Reducer\n",
    "history = [AIMessage(\"Hello i am AI.\"),\n",
    "            HumanMessage(\"Tell me a joke.\")]\n",
    "new_message = AIMessage(\" OK then ...\")\n",
    "history = add_messages(history,new_message)\n",
    "print(history)\n",
    "\n",
    "# Inside prebuilt MessagesState\n",
    "# from typing_extensions import TypedDict\n",
    "# class MessageState(TypedDict):\n",
    "#     messages: Annotated[ list[AnyMessage], add_messages ]\n",
    "\n",
    "# We will use the prebuilt one like this.\n",
    "class State(MessagesState):\n",
    "    pass\n",
    "\n"
   ],
   "id": "925f41f94fd153e",
   "outputs": [
    {
     "name": "stdout",
     "output_type": "stream",
     "text": [
      "[AIMessage(content='Hello i am AI.', additional_kwargs={}, response_metadata={}, id='35ee5458-2205-4002-98fd-42d5cb24fcfe'), HumanMessage(content='Tell me a joke.', additional_kwargs={}, response_metadata={}, id='68431fa1-1ace-4020-9937-4e9a8de599fa'), AIMessage(content=' OK then ...', additional_kwargs={}, response_metadata={}, id='5c741a69-54bd-4e6f-a483-56c1151f6f40')]\n"
     ]
    }
   ],
   "execution_count": 7
  }
 ],
 "metadata": {
  "kernelspec": {
   "display_name": "Python 3",
   "language": "python",
   "name": "python3"
  },
  "language_info": {
   "codemirror_mode": {
    "name": "ipython",
    "version": 2
   },
   "file_extension": ".py",
   "mimetype": "text/x-python",
   "name": "python",
   "nbconvert_exporter": "python",
   "pygments_lexer": "ipython2",
   "version": "2.7.6"
  }
 },
 "nbformat": 4,
 "nbformat_minor": 5
}
