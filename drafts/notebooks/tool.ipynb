{
 "cells": [
  {
   "cell_type": "code",
   "id": "initial_id",
   "metadata": {
    "collapsed": true,
    "ExecuteTime": {
     "end_time": "2025-03-29T11:22:17.808612Z",
     "start_time": "2025-03-29T11:22:15.455576Z"
    }
   },
   "source": [
    "from pydantic.v1 import BaseModel\n",
    "from transformers.utils import get_json_schema\n",
    "\n",
    "\n",
    "def add(x:int,y:int):\n",
    "    \"\"\"\n",
    "    This function add two arguments and return their sum\n",
    "    Args:\n",
    "        x: first argument\n",
    "        y: second argument\n",
    "\n",
    "    Returns: sum of two arguments\n",
    "\n",
    "    \"\"\"\n",
    "    return x+y\n",
    "\n",
    "class User(BaseModel):\n",
    "    \"\"\"\n",
    "    The model store user information.\n",
    "    \"\"\"\n",
    "    name:str\n",
    "    age:int\n",
    "\n",
    "get_json_schema(add)"
   ],
   "outputs": [
    {
     "name": "stderr",
     "output_type": "stream",
     "text": [
      "/home/hieu/Workspace/projects/chatbone/.venv/lib/python3.12/site-packages/tqdm/auto.py:21: TqdmWarning: IProgress not found. Please update jupyter and ipywidgets. See https://ipywidgets.readthedocs.io/en/stable/user_install.html\n",
      "  from .autonotebook import tqdm as notebook_tqdm\n"
     ]
    },
    {
     "data": {
      "text/plain": [
       "{'type': 'function',\n",
       " 'function': {'name': 'add',\n",
       "  'description': 'This function add two arguments and return their sum',\n",
       "  'parameters': {'type': 'object',\n",
       "   'properties': {'x': {'type': 'integer', 'description': 'first argument'},\n",
       "    'y': {'type': 'integer', 'description': 'second argument'}},\n",
       "   'required': ['x', 'y']}}}"
      ]
     },
     "execution_count": 1,
     "metadata": {},
     "output_type": "execute_result"
    }
   ],
   "execution_count": 1
  },
  {
   "metadata": {},
   "cell_type": "code",
   "outputs": [],
   "execution_count": null,
   "source": "from transformers import AlbertTokenizer",
   "id": "e81d96bc68e15779"
  }
 ],
 "metadata": {
  "kernelspec": {
   "display_name": "Python 3",
   "language": "python",
   "name": "python3"
  },
  "language_info": {
   "codemirror_mode": {
    "name": "ipython",
    "version": 2
   },
   "file_extension": ".py",
   "mimetype": "text/x-python",
   "name": "python",
   "nbconvert_exporter": "python",
   "pygments_lexer": "ipython2",
   "version": "2.7.6"
  }
 },
 "nbformat": 4,
 "nbformat_minor": 5
}
