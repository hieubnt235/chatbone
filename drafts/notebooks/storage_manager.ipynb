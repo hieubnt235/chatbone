{
 "cells": [
  {
   "metadata": {},
   "cell_type": "markdown",
   "source": [
    "## Control all the source of the chatbot to retrieve from.\n",
    "How to collect data, store, load, persist,..."
   ],
   "id": "5649c68ef29531cf"
  },
  {
   "metadata": {},
   "cell_type": "markdown",
   "source": [
    "## Indexing\n",
    "ref: https://python.langchain.com/docs/how_to/indexing/"
   ],
   "id": "a8802769b191c28c"
  },
  {
   "metadata": {},
   "cell_type": "markdown",
   "source": [
    "## Persistency\n",
    "ref: https://www.youtube.com/watch?v=KQAz7KqCHJw\n",
    "ref: https://medium.com/@eric_vaillancourt/enough-with-prototyping-time-for-persistent-multi-vector-storage-with-postgresql-in-langchain-8e678738e80d"
   ],
   "id": "5519de10f2adf375"
  },
  {
   "cell_type": "code",
   "execution_count": null,
   "id": "initial_id",
   "metadata": {
    "collapsed": true
   },
   "outputs": [],
   "source": [
    ""
   ]
  },
  {
   "metadata": {},
   "cell_type": "markdown",
   "source": "## Update",
   "id": "308bf9ae80e0b762"
  },
  {
   "metadata": {},
   "cell_type": "markdown",
   "source": "## Scraping",
   "id": "24d22abc65e21882"
  },
  {
   "metadata": {},
   "cell_type": "markdown",
   "source": "## Parse PDF",
   "id": "25e585aaf7482681"
  }
 ],
 "metadata": {
  "kernelspec": {
   "display_name": "Python 3",
   "language": "python",
   "name": "python3"
  },
  "language_info": {
   "codemirror_mode": {
    "name": "ipython",
    "version": 2
   },
   "file_extension": ".py",
   "mimetype": "text/x-python",
   "name": "python",
   "nbconvert_exporter": "python",
   "pygments_lexer": "ipython2",
   "version": "2.7.6"
  }
 },
 "nbformat": 4,
 "nbformat_minor": 5
}
