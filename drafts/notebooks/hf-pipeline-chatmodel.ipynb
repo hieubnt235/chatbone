{
 "cells": [
  {
   "metadata": {},
   "cell_type": "markdown",
   "source": [
    "# Chatmodel\n",
    "\n"
   ],
   "id": "644335e2364d2785"
  },
  {
   "metadata": {},
   "cell_type": "markdown",
   "source": [
    "\n",
    "## Aim:\n",
    "1. Create chat model that can work with both HuggingFace Pipeline and BaseChatModel. Support tool calling.\n"
   ],
   "id": "1e177b6a4f917c04"
  },
  {
   "metadata": {},
   "cell_type": "markdown",
   "source": [
    "## Known:\n",
    "1. ChatHuggingFace and TextGenerationPipeline do NOT have tools option when call apply_chat_template.\n",
    "2. Chat model automatically convert list[dict] message into langchain Message type."
   ],
   "id": "f5cc49d0ebd6a02b"
  },
  {
   "metadata": {},
   "cell_type": "markdown",
   "source": [
    "## Directions:\n",
    "1. Should we use HuggingFacePipeLine or TextGenerationPipeline or just Model and Tokenizer as a backend ? Just use Model and Tokenizer\n",
    "for more abstraction.\n",
    "2. TextGenerationPipeline offer an easy accessing to those and has some addition process for pre and post process.\n",
    "We need change the behavior of this pipeline\n",
    "\n",
    "2. FLow: apply_chat_template first, then pass it to TextGenerationPipeline as a STRING (Pipeline not apply_chat_template anymore).\n",
    "\n",
    "We need to parse the tool output format from LLM ( xml and json) to form used by apply_chat_template or langchain"
   ],
   "id": "9e78a9243045d4b1"
  },
  {
   "metadata": {
    "ExecuteTime": {
     "end_time": "2025-02-09T15:38:21.989073Z",
     "start_time": "2025-02-09T15:38:15.872593Z"
    }
   },
   "cell_type": "code",
   "source": [
    "from drafts.core import create_test_textgen_pipeline\n",
    "hf_pipeline = create_test_textgen_pipeline()"
   ],
   "id": "dd9f34a5df649898",
   "outputs": [
    {
     "name": "stderr",
     "output_type": "stream",
     "text": [
      "Device set to use cuda:0\n"
     ]
    }
   ],
   "execution_count": 1
  },
  {
   "metadata": {
    "ExecuteTime": {
     "end_time": "2025-02-09T15:38:22.476948Z",
     "start_time": "2025-02-09T15:38:21.993764Z"
    }
   },
   "cell_type": "code",
   "source": [
    "from src.chatbone import HFPipelineChatModel\n",
    "chat_model = HFPipelineChatModel(hf_pipeline=hf_pipeline)"
   ],
   "id": "3fe879c11a7072f3",
   "outputs": [],
   "execution_count": 2
  },
  {
   "metadata": {
    "ExecuteTime": {
     "end_time": "2025-02-09T15:38:25.669273Z",
     "start_time": "2025-02-09T15:38:22.563001Z"
    }
   },
   "cell_type": "code",
   "source": [
    "from transformers import TextStreamer\n",
    "streamer = TextStreamer(hf_pipeline.tokenizer,\n",
    "                        skip_prompt=True,\n",
    "                        skip_special_tokens=True)\n",
    "chat_model.invoke(\"tell me a joke\",\n",
    "                  pipeline_kwargs = dict(streamer =streamer, return_full_text=True), debug = True\n",
    "                  )"
   ],
   "id": "fa442a4cfe25db7b",
   "outputs": [
    {
     "name": "stdout",
     "output_type": "stream",
     "text": [
      "Sure! Here's a light-hearted joke for you:\n",
      "\n",
      "Why don't scientists trust atoms?\n",
      "\n",
      "Because they make up everything!\n",
      "------------START DEBUG----------\n",
      "messages\n",
      "[HumanMessage(content='tell me a joke', additional_kwargs={}, response_metadata={})]\n",
      "\n",
      "messages_dict\n",
      "[{'role': 'user', 'content': 'tell me a joke'}]\n",
      "\n",
      "llm_input\n",
      "<|im_start|>system\n",
      "You are Qwen, created by Alibaba Cloud. You are a helpful assistant.<|im_end|>\n",
      "<|im_start|>user\n",
      "tell me a joke<|im_end|>\n",
      "<|im_start|>assistant\n",
      "\n",
      "\n",
      "llm_output\n",
      "<|im_start|>system\n",
      "You are Qwen, created by Alibaba Cloud. You are a helpful assistant.<|im_end|>\n",
      "<|im_start|>user\n",
      "tell me a joke<|im_end|>\n",
      "<|im_start|>assistant\n",
      "Sure! Here's a light-hearted joke for you:\n",
      "\n",
      "Why don't scientists trust atoms?\n",
      "\n",
      "Because they make up everything!\n",
      "\n",
      "chat_result\n",
      "generations=[ChatGeneration(text=\"<|im_start|>system\\nYou are Qwen, created by Alibaba Cloud. You are a helpful assistant.<|im_end|>\\n<|im_start|>user\\ntell me a joke<|im_end|>\\n<|im_start|>assistant\\nSure! Here's a light-hearted joke for you:\\n\\nWhy don't scientists trust atoms?\\n\\nBecause they make up everything!\", message=AIMessage(content=\"<|im_start|>system\\nYou are Qwen, created by Alibaba Cloud. You are a helpful assistant.<|im_end|>\\n<|im_start|>user\\ntell me a joke<|im_end|>\\n<|im_start|>assistant\\nSure! Here's a light-hearted joke for you:\\n\\nWhy don't scientists trust atoms?\\n\\nBecause they make up everything!\", additional_kwargs={}, response_metadata={}))] llm_output=None\n",
      "tools\n",
      "None\n",
      "-------------END DEBUG-----------\n"
     ]
    },
    {
     "data": {
      "text/plain": [
       "AIMessage(content=\"<|im_start|>system\\nYou are Qwen, created by Alibaba Cloud. You are a helpful assistant.<|im_end|>\\n<|im_start|>user\\ntell me a joke<|im_end|>\\n<|im_start|>assistant\\nSure! Here's a light-hearted joke for you:\\n\\nWhy don't scientists trust atoms?\\n\\nBecause they make up everything!\", additional_kwargs={}, response_metadata={}, id='run-b128884c-9992-4abb-bafd-60f5d3d6905b-0')"
      ]
     },
     "execution_count": 3,
     "metadata": {},
     "output_type": "execute_result"
    }
   ],
   "execution_count": 3
  },
  {
   "metadata": {
    "ExecuteTime": {
     "end_time": "2025-02-09T15:38:27.133411Z",
     "start_time": "2025-02-09T15:38:25.689047Z"
    }
   },
   "cell_type": "code",
   "source": [
    "messages = [\n",
    "    dict(role = 'users', content = 'what is 3+5+5?'),\n",
    "    dict(role = 'assistant', content = 'The sum of 3 and 5 and 5 is 13'),\n",
    "    dict(role='users', content = \"So how about 3+8\")\n",
    "]\n",
    "chat_model.invoke(messages,\n",
    "                  pipeline_kwargs = dict(streamer =streamer, return_full_text=True),debug = True\n",
    "                  )\n"
   ],
   "id": "129de79dc21ca069",
   "outputs": [
    {
     "name": "stdout",
     "output_type": "stream",
     "text": [
      "The sum of 3 and 8 is 11.\n",
      "------------START DEBUG----------\n",
      "messages\n",
      "[HumanMessage(content='what is 3+5+5?', additional_kwargs={}, response_metadata={}), AIMessage(content='The sum of 3 and 5 and 5 is 13', additional_kwargs={}, response_metadata={}), HumanMessage(content='So how about 3+8', additional_kwargs={}, response_metadata={})]\n",
      "\n",
      "messages_dict\n",
      "[{'role': 'user', 'content': 'what is 3+5+5?'}, {'role': 'assistant', 'content': 'The sum of 3 and 5 and 5 is 13'}, {'role': 'user', 'content': 'So how about 3+8'}]\n",
      "\n",
      "llm_input\n",
      "<|im_start|>system\n",
      "You are Qwen, created by Alibaba Cloud. You are a helpful assistant.<|im_end|>\n",
      "<|im_start|>user\n",
      "what is 3+5+5?<|im_end|>\n",
      "<|im_start|>assistant\n",
      "The sum of 3 and 5 and 5 is 13<|im_end|>\n",
      "<|im_start|>user\n",
      "So how about 3+8<|im_end|>\n",
      "<|im_start|>assistant\n",
      "\n",
      "\n",
      "llm_output\n",
      "<|im_start|>system\n",
      "You are Qwen, created by Alibaba Cloud. You are a helpful assistant.<|im_end|>\n",
      "<|im_start|>user\n",
      "what is 3+5+5?<|im_end|>\n",
      "<|im_start|>assistant\n",
      "The sum of 3 and 5 and 5 is 13<|im_end|>\n",
      "<|im_start|>user\n",
      "So how about 3+8<|im_end|>\n",
      "<|im_start|>assistant\n",
      "The sum of 3 and 8 is 11.\n",
      "\n",
      "chat_result\n",
      "generations=[ChatGeneration(text='<|im_start|>system\\nYou are Qwen, created by Alibaba Cloud. You are a helpful assistant.<|im_end|>\\n<|im_start|>user\\nwhat is 3+5+5?<|im_end|>\\n<|im_start|>assistant\\nThe sum of 3 and 5 and 5 is 13<|im_end|>\\n<|im_start|>user\\nSo how about 3+8<|im_end|>\\n<|im_start|>assistant\\nThe sum of 3 and 8 is 11.', message=AIMessage(content='<|im_start|>system\\nYou are Qwen, created by Alibaba Cloud. You are a helpful assistant.<|im_end|>\\n<|im_start|>user\\nwhat is 3+5+5?<|im_end|>\\n<|im_start|>assistant\\nThe sum of 3 and 5 and 5 is 13<|im_end|>\\n<|im_start|>user\\nSo how about 3+8<|im_end|>\\n<|im_start|>assistant\\nThe sum of 3 and 8 is 11.', additional_kwargs={}, response_metadata={}))] llm_output=None\n",
      "tools\n",
      "None\n",
      "-------------END DEBUG-----------\n"
     ]
    },
    {
     "data": {
      "text/plain": [
       "AIMessage(content='<|im_start|>system\\nYou are Qwen, created by Alibaba Cloud. You are a helpful assistant.<|im_end|>\\n<|im_start|>user\\nwhat is 3+5+5?<|im_end|>\\n<|im_start|>assistant\\nThe sum of 3 and 5 and 5 is 13<|im_end|>\\n<|im_start|>user\\nSo how about 3+8<|im_end|>\\n<|im_start|>assistant\\nThe sum of 3 and 8 is 11.', additional_kwargs={}, response_metadata={}, id='run-609fb25a-a5c1-415d-bbad-da96e3584062-0')"
      ]
     },
     "execution_count": 4,
     "metadata": {},
     "output_type": "execute_result"
    }
   ],
   "execution_count": 4
  },
  {
   "metadata": {
    "ExecuteTime": {
     "end_time": "2025-02-09T15:38:27.153953Z",
     "start_time": "2025-02-09T15:38:27.149050Z"
    }
   },
   "cell_type": "code",
   "source": [
    "# Tools\n",
    "def add(a: int, b: int) -> int:\n",
    "    \"\"\"\n",
    "    A function that adds two numbers.\n",
    "    Args:\n",
    "        a: The first number to add\n",
    "        b: The second number to add\n",
    "    \"\"\"\n",
    "    return a + b\n",
    "\n",
    "\n",
    "def multiply(a: int, b: int) -> int:\n",
    "    \"\"\"\n",
    "     A function that multiplies two numbers.\n",
    "     Args:\n",
    "         a: The first number to multiply\n",
    "         b: The second number to multiply\n",
    "     \"\"\"\n",
    "    return a * b\n",
    "\n",
    "\n",
    "from pydantic import BaseModel, Field\n",
    "\n",
    "\n",
    "class JokeFormat(BaseModel):\n",
    "    \"\"\"\n",
    "    The template when a joke is generated. All the joke has to match this format.\n",
    "    Args:\n",
    "        setup: Question to set up the joke.\n",
    "        punchline: The twist answer to make surprising.\n",
    "    \"\"\"\n",
    "    setup: str = Field(description='Question to setup the joke')\n",
    "    punchline: str = Field(description='The twist answer to make surprising.')\n",
    "\n",
    "\n",
    "def joke_format(setup: str, punchline: str):\n",
    "    \"\"\"\n",
    "    The template when a joke is generated. All the joke has to match this format.\n",
    "    Args:\n",
    "        setup: Question to set up the joke.\n",
    "        punchline: The twist answer to make surprising.\n",
    "    \"\"\"\n",
    "    return JokeFormat(setup=setup, punchline=punchline)\n",
    "\n",
    "\n",
    "tools = [add, multiply]"
   ],
   "id": "dd3f662686fbf883",
   "outputs": [],
   "execution_count": 5
  },
  {
   "metadata": {
    "ExecuteTime": {
     "end_time": "2025-02-09T15:38:27.210875Z",
     "start_time": "2025-02-09T15:38:27.203946Z"
    }
   },
   "cell_type": "code",
   "source": [
    "chat_with_tools = chat_model.bind_tools(tools)\n",
    "chat_with_tools.kwargs"
   ],
   "id": "57152fb41013fee9",
   "outputs": [
    {
     "data": {
      "text/plain": [
       "{'tools': [<function __main__.add(a: int, b: int) -> int>,\n",
       "  <function __main__.multiply(a: int, b: int) -> int>]}"
      ]
     },
     "execution_count": 6,
     "metadata": {},
     "output_type": "execute_result"
    }
   ],
   "execution_count": 6
  },
  {
   "metadata": {
    "ExecuteTime": {
     "end_time": "2025-02-09T15:38:32.558850Z",
     "start_time": "2025-02-09T15:38:27.271396Z"
    }
   },
   "cell_type": "code",
   "source": [
    "from langchain_core.messages import HumanMessage\n",
    "his_messages = [\n",
    "    # dict(role = 'users', content = 'what is 3+5+5?'),\n",
    "    # dict(role = 'assistant', content = 'The sum of 3 and 5 and 5 is 13'),\n",
    "    HumanMessage(\"what is 3+8 and 3*8 equal to ?\")\n",
    "]\n",
    "tool_output = chat_with_tools.invoke(his_messages,\n",
    "                       pipeline_kwargs = dict(streamer =streamer),\n",
    "                       # debug =True\n",
    "                       )\n",
    "his_messages.append(tool_output)\n",
    "his_messages"
   ],
   "id": "9bf661883b014182",
   "outputs": [
    {
     "name": "stdout",
     "output_type": "stream",
     "text": [
      "<tool_call>\n",
      "{\"name\": \"add\", \"arguments\": {\"a\": 3, \"b\": 8}}\n",
      "</tool_call>\n",
      "<tool_call>\n",
      "{\"name\": \"multiply\", \"arguments\": {\"a\": 3, \"b\": 8}}\n",
      "</tool_call>\n"
     ]
    },
    {
     "data": {
      "text/plain": [
       "[HumanMessage(content='what is 3+8 and 3*8 equal to ?', additional_kwargs={}, response_metadata={}),\n",
       " AIMessage(content='', additional_kwargs={}, response_metadata={}, id='run-4d7ec1c3-abb3-4932-be61-e3ab2bd5f565-0', tool_calls=[{'name': 'add', 'args': {'a': 3, 'b': 8}, 'id': '2025-02-09 22:38:32', 'type': 'tool_call'}, {'name': 'multiply', 'args': {'a': 3, 'b': 8}, 'id': '2025-02-09 22:38:32', 'type': 'tool_call'}])]"
      ]
     },
     "execution_count": 7,
     "metadata": {},
     "output_type": "execute_result"
    }
   ],
   "execution_count": 7
  },
  {
   "metadata": {
    "ExecuteTime": {
     "end_time": "2025-02-09T15:38:32.615374Z",
     "start_time": "2025-02-09T15:38:32.565865Z"
    }
   },
   "cell_type": "code",
   "source": [
    "from langgraph.prebuilt import ToolNode\n",
    "from langgraph.graph import MessagesState\n",
    "\n",
    "\n",
    "node = ToolNode([multiply,add])\n",
    "\n",
    "m = MessagesState(messages = his_messages)\n",
    "a = node.invoke(m)\n",
    "print(a)\n",
    "his_messages.extend(a['messages'])\n",
    "his_messages"
   ],
   "id": "a069d13087d3fa89",
   "outputs": [
    {
     "name": "stdout",
     "output_type": "stream",
     "text": [
      "{'messages': [ToolMessage(content='11', name='add', tool_call_id='2025-02-09 22:38:32'), ToolMessage(content='24', name='multiply', tool_call_id='2025-02-09 22:38:32')]}\n"
     ]
    },
    {
     "data": {
      "text/plain": [
       "[HumanMessage(content='what is 3+8 and 3*8 equal to ?', additional_kwargs={}, response_metadata={}),\n",
       " AIMessage(content='', additional_kwargs={}, response_metadata={}, id='run-4d7ec1c3-abb3-4932-be61-e3ab2bd5f565-0', tool_calls=[{'name': 'add', 'args': {'a': 3, 'b': 8}, 'id': '2025-02-09 22:38:32', 'type': 'tool_call'}, {'name': 'multiply', 'args': {'a': 3, 'b': 8}, 'id': '2025-02-09 22:38:32', 'type': 'tool_call'}]),\n",
       " ToolMessage(content='11', name='add', tool_call_id='2025-02-09 22:38:32'),\n",
       " ToolMessage(content='24', name='multiply', tool_call_id='2025-02-09 22:38:32')]"
      ]
     },
     "execution_count": 8,
     "metadata": {},
     "output_type": "execute_result"
    }
   ],
   "execution_count": 8
  },
  {
   "metadata": {
    "ExecuteTime": {
     "end_time": "2025-02-09T15:38:35.143435Z",
     "start_time": "2025-02-09T15:38:32.628066Z"
    }
   },
   "cell_type": "code",
   "source": [
    "ai_mess = chat_with_tools.invoke(his_messages,\n",
    "                       pipeline_kwargs = dict(streamer =streamer, return_full_text=True),\n",
    "                       debug =True\n",
    "                       )"
   ],
   "id": "f18c2183884aee26",
   "outputs": [
    {
     "name": "stdout",
     "output_type": "stream",
     "text": [
      "3 + 8 equals 11, and 3 * 8 equals 24.\n",
      "Warning: Invalid JSON found in <tool_call>: \n",
      "Warning: Invalid JSON found in <tool_call>: {\"name\": <function-name>, \"arguments\": <args-json-object>}\n",
      "------------START DEBUG----------\n",
      "messages\n",
      "[HumanMessage(content='what is 3+8 and 3*8 equal to ?', additional_kwargs={}, response_metadata={}), AIMessage(content='', additional_kwargs={}, response_metadata={}, id='run-4d7ec1c3-abb3-4932-be61-e3ab2bd5f565-0', tool_calls=[{'name': 'add', 'args': {'a': 3, 'b': 8}, 'id': '2025-02-09 22:38:32', 'type': 'tool_call'}, {'name': 'multiply', 'args': {'a': 3, 'b': 8}, 'id': '2025-02-09 22:38:32', 'type': 'tool_call'}]), ToolMessage(content='11', name='add', tool_call_id='2025-02-09 22:38:32'), ToolMessage(content='24', name='multiply', tool_call_id='2025-02-09 22:38:32')]\n",
      "\n",
      "messages_dict\n",
      "[{'role': 'user', 'content': 'what is 3+8 and 3*8 equal to ?'}, {'role': 'assistant', 'content': '', 'tool_calls': [{'type': 'function', 'id': '2025-02-09 22:38:32', 'function': {'name': 'add', 'arguments': {'a': 3, 'b': 8}}}, {'type': 'function', 'id': '2025-02-09 22:38:32', 'function': {'name': 'multiply', 'arguments': {'a': 3, 'b': 8}}}]}, {'role': 'tool', 'content': '11', 'name': 'add', 'tool_call_id': '2025-02-09 22:38:32'}, {'role': 'tool', 'content': '24', 'name': 'multiply', 'tool_call_id': '2025-02-09 22:38:32'}]\n",
      "\n",
      "llm_input\n",
      "<|im_start|>system\n",
      "You are Qwen, created by Alibaba Cloud. You are a helpful assistant.\n",
      "\n",
      "# Tools\n",
      "\n",
      "You may call one or more functions to assist with the user query.\n",
      "\n",
      "You are provided with function signatures within <tools></tools> XML tags:\n",
      "<tools>\n",
      "{\"type\": \"function\", \"function\": {\"name\": \"add\", \"description\": \"A function that adds two numbers.\", \"parameters\": {\"type\": \"object\", \"properties\": {\"a\": {\"type\": \"integer\", \"description\": \"The first number to add\"}, \"b\": {\"type\": \"integer\", \"description\": \"The second number to add\"}}, \"required\": [\"a\", \"b\"]}, \"return\": {\"type\": \"integer\"}}}\n",
      "{\"type\": \"function\", \"function\": {\"name\": \"multiply\", \"description\": \"A function that multiplies two numbers.\", \"parameters\": {\"type\": \"object\", \"properties\": {\"a\": {\"type\": \"integer\", \"description\": \"The first number to multiply\"}, \"b\": {\"type\": \"integer\", \"description\": \"The second number to multiply\"}}, \"required\": [\"a\", \"b\"]}, \"return\": {\"type\": \"integer\"}}}\n",
      "</tools>\n",
      "\n",
      "For each function call, return a json object with function name and arguments within <tool_call></tool_call> XML tags:\n",
      "<tool_call>\n",
      "{\"name\": <function-name>, \"arguments\": <args-json-object>}\n",
      "</tool_call><|im_end|>\n",
      "<|im_start|>user\n",
      "what is 3+8 and 3*8 equal to ?<|im_end|>\n",
      "<|im_start|>assistant\n",
      "<tool_call>\n",
      "{\"name\": \"add\", \"arguments\": {\"a\": 3, \"b\": 8}}\n",
      "</tool_call>\n",
      "<tool_call>\n",
      "{\"name\": \"multiply\", \"arguments\": {\"a\": 3, \"b\": 8}}\n",
      "</tool_call><|im_end|>\n",
      "<|im_start|>user\n",
      "<tool_response>\n",
      "11\n",
      "</tool_response>\n",
      "<tool_response>\n",
      "24\n",
      "</tool_response><|im_end|>\n",
      "<|im_start|>assistant\n",
      "\n",
      "\n",
      "llm_output\n",
      "<|im_start|>system\n",
      "You are Qwen, created by Alibaba Cloud. You are a helpful assistant.\n",
      "\n",
      "# Tools\n",
      "\n",
      "You may call one or more functions to assist with the user query.\n",
      "\n",
      "You are provided with function signatures within <tools></tools> XML tags:\n",
      "<tools>\n",
      "{\"type\": \"function\", \"function\": {\"name\": \"add\", \"description\": \"A function that adds two numbers.\", \"parameters\": {\"type\": \"object\", \"properties\": {\"a\": {\"type\": \"integer\", \"description\": \"The first number to add\"}, \"b\": {\"type\": \"integer\", \"description\": \"The second number to add\"}}, \"required\": [\"a\", \"b\"]}, \"return\": {\"type\": \"integer\"}}}\n",
      "{\"type\": \"function\", \"function\": {\"name\": \"multiply\", \"description\": \"A function that multiplies two numbers.\", \"parameters\": {\"type\": \"object\", \"properties\": {\"a\": {\"type\": \"integer\", \"description\": \"The first number to multiply\"}, \"b\": {\"type\": \"integer\", \"description\": \"The second number to multiply\"}}, \"required\": [\"a\", \"b\"]}, \"return\": {\"type\": \"integer\"}}}\n",
      "</tools>\n",
      "\n",
      "For each function call, return a json object with function name and arguments within <tool_call></tool_call> XML tags:\n",
      "<tool_call>\n",
      "{\"name\": <function-name>, \"arguments\": <args-json-object>}\n",
      "</tool_call><|im_end|>\n",
      "<|im_start|>user\n",
      "what is 3+8 and 3*8 equal to ?<|im_end|>\n",
      "<|im_start|>assistant\n",
      "<tool_call>\n",
      "{\"name\": \"add\", \"arguments\": {\"a\": 3, \"b\": 8}}\n",
      "</tool_call>\n",
      "<tool_call>\n",
      "{\"name\": \"multiply\", \"arguments\": {\"a\": 3, \"b\": 8}}\n",
      "</tool_call><|im_end|>\n",
      "<|im_start|>user\n",
      "<tool_response>\n",
      "11\n",
      "</tool_response>\n",
      "<tool_response>\n",
      "24\n",
      "</tool_response><|im_end|>\n",
      "<|im_start|>assistant\n",
      "3 + 8 equals 11, and 3 * 8 equals 24.\n",
      "\n",
      "chat_result\n",
      "generations=[ChatGeneration(text='<|im_start|>system\\nYou are Qwen, created by Alibaba Cloud. You are a helpful assistant.\\n\\n# Tools\\n\\nYou may call one or more functions to assist with the user query.\\n\\nYou are provided with function signatures within <tools></tools> XML tags:\\n<tools>\\n{\"type\": \"function\", \"function\": {\"name\": \"add\", \"description\": \"A function that adds two numbers.\", \"parameters\": {\"type\": \"object\", \"properties\": {\"a\": {\"type\": \"integer\", \"description\": \"The first number to add\"}, \"b\": {\"type\": \"integer\", \"description\": \"The second number to add\"}}, \"required\": [\"a\", \"b\"]}, \"return\": {\"type\": \"integer\"}}}\\n{\"type\": \"function\", \"function\": {\"name\": \"multiply\", \"description\": \"A function that multiplies two numbers.\", \"parameters\": {\"type\": \"object\", \"properties\": {\"a\": {\"type\": \"integer\", \"description\": \"The first number to multiply\"}, \"b\": {\"type\": \"integer\", \"description\": \"The second number to multiply\"}}, \"required\": [\"a\", \"b\"]}, \"return\": {\"type\": \"integer\"}}}\\n</tools>\\n\\nFor each function call, return a json object with function name and arguments within <tool_call></tool_call> XML tags:\\n<tool_call>{\"name\": <function-name>, \"arguments\": <args-json-object>}</tool_call><|im_end|>\\n<|im_start|>user\\nwhat is 3+8 and 3*8 equal to ?<|im_end|>\\n<|im_start|>assistant\\n\\n<|im_end|>\\n<|im_start|>user\\n<tool_response>\\n11\\n</tool_response>\\n<tool_response>\\n24\\n</tool_response><|im_end|>\\n<|im_start|>assistant\\n3 + 8 equals 11, and 3 * 8 equals 24.', message=AIMessage(content='<|im_start|>system\\nYou are Qwen, created by Alibaba Cloud. You are a helpful assistant.\\n\\n# Tools\\n\\nYou may call one or more functions to assist with the user query.\\n\\nYou are provided with function signatures within <tools></tools> XML tags:\\n<tools>\\n{\"type\": \"function\", \"function\": {\"name\": \"add\", \"description\": \"A function that adds two numbers.\", \"parameters\": {\"type\": \"object\", \"properties\": {\"a\": {\"type\": \"integer\", \"description\": \"The first number to add\"}, \"b\": {\"type\": \"integer\", \"description\": \"The second number to add\"}}, \"required\": [\"a\", \"b\"]}, \"return\": {\"type\": \"integer\"}}}\\n{\"type\": \"function\", \"function\": {\"name\": \"multiply\", \"description\": \"A function that multiplies two numbers.\", \"parameters\": {\"type\": \"object\", \"properties\": {\"a\": {\"type\": \"integer\", \"description\": \"The first number to multiply\"}, \"b\": {\"type\": \"integer\", \"description\": \"The second number to multiply\"}}, \"required\": [\"a\", \"b\"]}, \"return\": {\"type\": \"integer\"}}}\\n</tools>\\n\\nFor each function call, return a json object with function name and arguments within <tool_call></tool_call> XML tags:\\n<tool_call>{\"name\": <function-name>, \"arguments\": <args-json-object>}</tool_call><|im_end|>\\n<|im_start|>user\\nwhat is 3+8 and 3*8 equal to ?<|im_end|>\\n<|im_start|>assistant\\n\\n<|im_end|>\\n<|im_start|>user\\n<tool_response>\\n11\\n</tool_response>\\n<tool_response>\\n24\\n</tool_response><|im_end|>\\n<|im_start|>assistant\\n3 + 8 equals 11, and 3 * 8 equals 24.', additional_kwargs={}, response_metadata={}, tool_calls=[{'name': 'add', 'args': {'a': 3, 'b': 8}, 'id': '2025-02-09 22:38:35', 'type': 'tool_call'}, {'name': 'multiply', 'args': {'a': 3, 'b': 8}, 'id': '2025-02-09 22:38:35', 'type': 'tool_call'}]))] llm_output=None\n",
      "tools\n",
      "[<function add at 0x7782c24e8900>, <function multiply at 0x7782c24e82c0>]\n",
      "-------------END DEBUG-----------\n"
     ]
    }
   ],
   "execution_count": 9
  },
  {
   "metadata": {
    "ExecuteTime": {
     "end_time": "2025-02-09T15:38:35.153253Z",
     "start_time": "2025-02-09T15:38:35.150724Z"
    }
   },
   "cell_type": "code",
   "source": "print(ai_mess.content)",
   "id": "72f53c85f442b9d3",
   "outputs": [
    {
     "name": "stdout",
     "output_type": "stream",
     "text": [
      "<|im_start|>system\n",
      "You are Qwen, created by Alibaba Cloud. You are a helpful assistant.\n",
      "\n",
      "# Tools\n",
      "\n",
      "You may call one or more functions to assist with the user query.\n",
      "\n",
      "You are provided with function signatures within <tools></tools> XML tags:\n",
      "<tools>\n",
      "{\"type\": \"function\", \"function\": {\"name\": \"add\", \"description\": \"A function that adds two numbers.\", \"parameters\": {\"type\": \"object\", \"properties\": {\"a\": {\"type\": \"integer\", \"description\": \"The first number to add\"}, \"b\": {\"type\": \"integer\", \"description\": \"The second number to add\"}}, \"required\": [\"a\", \"b\"]}, \"return\": {\"type\": \"integer\"}}}\n",
      "{\"type\": \"function\", \"function\": {\"name\": \"multiply\", \"description\": \"A function that multiplies two numbers.\", \"parameters\": {\"type\": \"object\", \"properties\": {\"a\": {\"type\": \"integer\", \"description\": \"The first number to multiply\"}, \"b\": {\"type\": \"integer\", \"description\": \"The second number to multiply\"}}, \"required\": [\"a\", \"b\"]}, \"return\": {\"type\": \"integer\"}}}\n",
      "</tools>\n",
      "\n",
      "For each function call, return a json object with function name and arguments within <tool_call></tool_call> XML tags:\n",
      "<tool_call>{\"name\": <function-name>, \"arguments\": <args-json-object>}</tool_call><|im_end|>\n",
      "<|im_start|>user\n",
      "what is 3+8 and 3*8 equal to ?<|im_end|>\n",
      "<|im_start|>assistant\n",
      "\n",
      "<|im_end|>\n",
      "<|im_start|>user\n",
      "<tool_response>\n",
      "11\n",
      "</tool_response>\n",
      "<tool_response>\n",
      "24\n",
      "</tool_response><|im_end|>\n",
      "<|im_start|>assistant\n",
      "3 + 8 equals 11, and 3 * 8 equals 24.\n"
     ]
    }
   ],
   "execution_count": 10
  }
 ],
 "metadata": {
  "kernelspec": {
   "display_name": "Python 3",
   "language": "python",
   "name": "python3"
  },
  "language_info": {
   "codemirror_mode": {
    "name": "ipython",
    "version": 2
   },
   "file_extension": ".py",
   "mimetype": "text/x-python",
   "name": "python",
   "nbconvert_exporter": "python",
   "pygments_lexer": "ipython2",
   "version": "2.7.6"
  }
 },
 "nbformat": 4,
 "nbformat_minor": 5
}
