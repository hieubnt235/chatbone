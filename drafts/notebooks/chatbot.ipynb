{
 "cells": [
  {
   "cell_type": "code",
   "id": "initial_id",
   "metadata": {
    "collapsed": true,
    "ExecuteTime": {
     "end_time": "2025-02-10T04:51:54.476694Z",
     "start_time": "2025-02-10T04:51:46.912025Z"
    }
   },
   "source": [
    "from drafts.core import create_test_textgen_pipeline\n",
    "from src.chatbone import HFPipelineChatModel\n",
    "from src.chatbone import algebra\n",
    "hf_pipeline = create_test_textgen_pipeline()\n",
    "chat_model = HFPipelineChatModel(hf_pipeline = hf_pipeline)\n",
    "chat_model_with_tools = chat_model.bind_tools(algebra)"
   ],
   "outputs": [
    {
     "name": "stderr",
     "output_type": "stream",
     "text": [
      "Device set to use cuda:0\n"
     ]
    }
   ],
   "execution_count": 1
  },
  {
   "metadata": {},
   "cell_type": "code",
   "outputs": [],
   "execution_count": null,
   "source": "",
   "id": "aebe040a38b65af2"
  }
 ],
 "metadata": {
  "kernelspec": {
   "display_name": "Python 3",
   "language": "python",
   "name": "python3"
  },
  "language_info": {
   "codemirror_mode": {
    "name": "ipython",
    "version": 2
   },
   "file_extension": ".py",
   "mimetype": "text/x-python",
   "name": "python",
   "nbconvert_exporter": "python",
   "pygments_lexer": "ipython2",
   "version": "2.7.6"
  }
 },
 "nbformat": 4,
 "nbformat_minor": 5
}
