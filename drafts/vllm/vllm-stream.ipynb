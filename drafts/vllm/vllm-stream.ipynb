{
 "cells": [
  {
   "metadata": {
    "ExecuteTime": {
     "end_time": "2025-03-30T10:32:17.616058Z",
     "start_time": "2025-03-30T10:32:14.744344Z"
    }
   },
   "cell_type": "code",
   "outputs": [
    {
     "ename": "HfHubHTTPError",
     "evalue": "401 Client Error: Unauthorized for url: https://huggingface.co/api/repos/create (Request ID: Root=1-67e91db0-40fb617b1378c71a304ca36f;2749dd57-d71f-46c6-b959-6cfe32cd9b2a)\n\nInvalid username or password.",
     "output_type": "error",
     "traceback": [
      "\u001B[31m---------------------------------------------------------------------------\u001B[39m",
      "\u001B[31mHTTPError\u001B[39m                                 Traceback (most recent call last)",
      "\u001B[36mFile \u001B[39m\u001B[32m~/Workspace/projects/chatbone/.venv/lib/python3.12/site-packages/huggingface_hub/utils/_http.py:409\u001B[39m, in \u001B[36mhf_raise_for_status\u001B[39m\u001B[34m(response, endpoint_name)\u001B[39m\n\u001B[32m    408\u001B[39m \u001B[38;5;28;01mtry\u001B[39;00m:\n\u001B[32m--> \u001B[39m\u001B[32m409\u001B[39m     \u001B[43mresponse\u001B[49m\u001B[43m.\u001B[49m\u001B[43mraise_for_status\u001B[49m\u001B[43m(\u001B[49m\u001B[43m)\u001B[49m\n\u001B[32m    410\u001B[39m \u001B[38;5;28;01mexcept\u001B[39;00m HTTPError \u001B[38;5;28;01mas\u001B[39;00m e:\n",
      "\u001B[36mFile \u001B[39m\u001B[32m~/Workspace/projects/chatbone/.venv/lib/python3.12/site-packages/requests/models.py:1024\u001B[39m, in \u001B[36mResponse.raise_for_status\u001B[39m\u001B[34m(self)\u001B[39m\n\u001B[32m   1023\u001B[39m \u001B[38;5;28;01mif\u001B[39;00m http_error_msg:\n\u001B[32m-> \u001B[39m\u001B[32m1024\u001B[39m     \u001B[38;5;28;01mraise\u001B[39;00m HTTPError(http_error_msg, response=\u001B[38;5;28mself\u001B[39m)\n",
      "\u001B[31mHTTPError\u001B[39m: 401 Client Error: Unauthorized for url: https://huggingface.co/api/repos/create",
      "\nThe above exception was the direct cause of the following exception:\n",
      "\u001B[31mHfHubHTTPError\u001B[39m                            Traceback (most recent call last)",
      "\u001B[36mCell\u001B[39m\u001B[36m \u001B[39m\u001B[32mIn[2]\u001B[39m\u001B[32m, line 16\u001B[39m\n\u001B[32m     10\u001B[39m tokenizer = AutoTokenizer.from_pretrained(model_path)\n\u001B[32m     11\u001B[39m model = AutoModelForCausalLM.from_pretrained(model_path,\n\u001B[32m     12\u001B[39m                                              \u001B[38;5;66;03m# torch_dtype=torch.bfloat16,\u001B[39;00m\n\u001B[32m     13\u001B[39m                                              quantization_config=quantization_cfg,\n\u001B[32m     14\u001B[39m                                              low_cpu_mem_usage=\u001B[38;5;28;01mTrue\u001B[39;00m, device_map=\u001B[33m\"\u001B[39m\u001B[33mauto\u001B[39m\u001B[33m\"\u001B[39m\n\u001B[32m     15\u001B[39m                                              )\n\u001B[32m---> \u001B[39m\u001B[32m16\u001B[39m \u001B[43mmodel\u001B[49m\u001B[43m.\u001B[49m\u001B[43mpush_to_hub\u001B[49m\u001B[43m(\u001B[49m\u001B[33;43m\"\u001B[39;49m\u001B[33;43mQwen2.5-0.5B-Instruct-bnb-8bit\u001B[39;49m\u001B[33;43m\"\u001B[39;49m\u001B[43m)\u001B[49m\n",
      "\u001B[36mFile \u001B[39m\u001B[32m~/Workspace/projects/chatbone/.venv/lib/python3.12/site-packages/transformers/modeling_utils.py:3631\u001B[39m, in \u001B[36mPreTrainedModel.push_to_hub\u001B[39m\u001B[34m(self, *args, **kwargs)\u001B[39m\n\u001B[32m   3629\u001B[39m \u001B[38;5;28;01mif\u001B[39;00m tags:\n\u001B[32m   3630\u001B[39m     kwargs[\u001B[33m\"\u001B[39m\u001B[33mtags\u001B[39m\u001B[33m\"\u001B[39m] = tags\n\u001B[32m-> \u001B[39m\u001B[32m3631\u001B[39m \u001B[38;5;28;01mreturn\u001B[39;00m \u001B[38;5;28;43msuper\u001B[39;49m\u001B[43m(\u001B[49m\u001B[43m)\u001B[49m\u001B[43m.\u001B[49m\u001B[43mpush_to_hub\u001B[49m\u001B[43m(\u001B[49m\u001B[43m*\u001B[49m\u001B[43margs\u001B[49m\u001B[43m,\u001B[49m\u001B[43m \u001B[49m\u001B[43m*\u001B[49m\u001B[43m*\u001B[49m\u001B[43mkwargs\u001B[49m\u001B[43m)\u001B[49m\n",
      "\u001B[36mFile \u001B[39m\u001B[32m~/Workspace/projects/chatbone/.venv/lib/python3.12/site-packages/transformers/utils/hub.py:961\u001B[39m, in \u001B[36mPushToHubMixin.push_to_hub\u001B[39m\u001B[34m(self, repo_id, use_temp_dir, commit_message, private, token, max_shard_size, create_pr, safe_serialization, revision, commit_description, tags, **deprecated_kwargs)\u001B[39m\n\u001B[32m    958\u001B[39m repo_url = deprecated_kwargs.pop(\u001B[33m\"\u001B[39m\u001B[33mrepo_url\u001B[39m\u001B[33m\"\u001B[39m, \u001B[38;5;28;01mNone\u001B[39;00m)\n\u001B[32m    959\u001B[39m organization = deprecated_kwargs.pop(\u001B[33m\"\u001B[39m\u001B[33morganization\u001B[39m\u001B[33m\"\u001B[39m, \u001B[38;5;28;01mNone\u001B[39;00m)\n\u001B[32m--> \u001B[39m\u001B[32m961\u001B[39m repo_id = \u001B[38;5;28;43mself\u001B[39;49m\u001B[43m.\u001B[49m\u001B[43m_create_repo\u001B[49m\u001B[43m(\u001B[49m\n\u001B[32m    962\u001B[39m \u001B[43m    \u001B[49m\u001B[43mrepo_id\u001B[49m\u001B[43m,\u001B[49m\u001B[43m \u001B[49m\u001B[43mprivate\u001B[49m\u001B[43m=\u001B[49m\u001B[43mprivate\u001B[49m\u001B[43m,\u001B[49m\u001B[43m \u001B[49m\u001B[43mtoken\u001B[49m\u001B[43m=\u001B[49m\u001B[43mtoken\u001B[49m\u001B[43m,\u001B[49m\u001B[43m \u001B[49m\u001B[43mrepo_url\u001B[49m\u001B[43m=\u001B[49m\u001B[43mrepo_url\u001B[49m\u001B[43m,\u001B[49m\u001B[43m \u001B[49m\u001B[43morganization\u001B[49m\u001B[43m=\u001B[49m\u001B[43morganization\u001B[49m\n\u001B[32m    963\u001B[39m \u001B[43m\u001B[49m\u001B[43m)\u001B[49m\n\u001B[32m    965\u001B[39m \u001B[38;5;66;03m# Create a new empty model card and eventually tag it\u001B[39;00m\n\u001B[32m    966\u001B[39m model_card = create_and_tag_model_card(\n\u001B[32m    967\u001B[39m     repo_id, tags, token=token, ignore_metadata_errors=ignore_metadata_errors\n\u001B[32m    968\u001B[39m )\n",
      "\u001B[36mFile \u001B[39m\u001B[32m~/Workspace/projects/chatbone/.venv/lib/python3.12/site-packages/transformers/utils/hub.py:768\u001B[39m, in \u001B[36mPushToHubMixin._create_repo\u001B[39m\u001B[34m(self, repo_id, private, token, repo_url, organization)\u001B[39m\n\u001B[32m    765\u001B[39m             repo_id = repo_id.split(\u001B[33m\"\u001B[39m\u001B[33m/\u001B[39m\u001B[33m\"\u001B[39m)[-\u001B[32m1\u001B[39m]\n\u001B[32m    766\u001B[39m         repo_id = \u001B[33mf\u001B[39m\u001B[33m\"\u001B[39m\u001B[38;5;132;01m{\u001B[39;00morganization\u001B[38;5;132;01m}\u001B[39;00m\u001B[33m/\u001B[39m\u001B[38;5;132;01m{\u001B[39;00mrepo_id\u001B[38;5;132;01m}\u001B[39;00m\u001B[33m\"\u001B[39m\n\u001B[32m--> \u001B[39m\u001B[32m768\u001B[39m url = \u001B[43mcreate_repo\u001B[49m\u001B[43m(\u001B[49m\u001B[43mrepo_id\u001B[49m\u001B[43m=\u001B[49m\u001B[43mrepo_id\u001B[49m\u001B[43m,\u001B[49m\u001B[43m \u001B[49m\u001B[43mtoken\u001B[49m\u001B[43m=\u001B[49m\u001B[43mtoken\u001B[49m\u001B[43m,\u001B[49m\u001B[43m \u001B[49m\u001B[43mprivate\u001B[49m\u001B[43m=\u001B[49m\u001B[43mprivate\u001B[49m\u001B[43m,\u001B[49m\u001B[43m \u001B[49m\u001B[43mexist_ok\u001B[49m\u001B[43m=\u001B[49m\u001B[38;5;28;43;01mTrue\u001B[39;49;00m\u001B[43m)\u001B[49m\n\u001B[32m    769\u001B[39m \u001B[38;5;28;01mreturn\u001B[39;00m url.repo_id\n",
      "\u001B[36mFile \u001B[39m\u001B[32m~/Workspace/projects/chatbone/.venv/lib/python3.12/site-packages/huggingface_hub/utils/_validators.py:114\u001B[39m, in \u001B[36mvalidate_hf_hub_args.<locals>._inner_fn\u001B[39m\u001B[34m(*args, **kwargs)\u001B[39m\n\u001B[32m    111\u001B[39m \u001B[38;5;28;01mif\u001B[39;00m check_use_auth_token:\n\u001B[32m    112\u001B[39m     kwargs = smoothly_deprecate_use_auth_token(fn_name=fn.\u001B[34m__name__\u001B[39m, has_token=has_token, kwargs=kwargs)\n\u001B[32m--> \u001B[39m\u001B[32m114\u001B[39m \u001B[38;5;28;01mreturn\u001B[39;00m \u001B[43mfn\u001B[49m\u001B[43m(\u001B[49m\u001B[43m*\u001B[49m\u001B[43margs\u001B[49m\u001B[43m,\u001B[49m\u001B[43m \u001B[49m\u001B[43m*\u001B[49m\u001B[43m*\u001B[49m\u001B[43mkwargs\u001B[49m\u001B[43m)\u001B[49m\n",
      "\u001B[36mFile \u001B[39m\u001B[32m~/Workspace/projects/chatbone/.venv/lib/python3.12/site-packages/huggingface_hub/hf_api.py:3511\u001B[39m, in \u001B[36mHfApi.create_repo\u001B[39m\u001B[34m(self, repo_id, token, private, repo_type, exist_ok, resource_group_id, space_sdk, space_hardware, space_storage, space_sleep_time, space_secrets, space_variables)\u001B[39m\n\u001B[32m   3508\u001B[39m     \u001B[38;5;28;01mbreak\u001B[39;00m\n\u001B[32m   3510\u001B[39m \u001B[38;5;28;01mtry\u001B[39;00m:\n\u001B[32m-> \u001B[39m\u001B[32m3511\u001B[39m     \u001B[43mhf_raise_for_status\u001B[49m\u001B[43m(\u001B[49m\u001B[43mr\u001B[49m\u001B[43m)\u001B[49m\n\u001B[32m   3512\u001B[39m \u001B[38;5;28;01mexcept\u001B[39;00m HTTPError \u001B[38;5;28;01mas\u001B[39;00m err:\n\u001B[32m   3513\u001B[39m     \u001B[38;5;28;01mif\u001B[39;00m exist_ok \u001B[38;5;129;01mand\u001B[39;00m err.response.status_code == \u001B[32m409\u001B[39m:\n\u001B[32m   3514\u001B[39m         \u001B[38;5;66;03m# Repo already exists and `exist_ok=True`\u001B[39;00m\n",
      "\u001B[36mFile \u001B[39m\u001B[32m~/Workspace/projects/chatbone/.venv/lib/python3.12/site-packages/huggingface_hub/utils/_http.py:481\u001B[39m, in \u001B[36mhf_raise_for_status\u001B[39m\u001B[34m(response, endpoint_name)\u001B[39m\n\u001B[32m    477\u001B[39m     \u001B[38;5;28;01mraise\u001B[39;00m _format(HfHubHTTPError, message, response) \u001B[38;5;28;01mfrom\u001B[39;00m\u001B[38;5;250m \u001B[39m\u001B[34;01me\u001B[39;00m\n\u001B[32m    479\u001B[39m \u001B[38;5;66;03m# Convert `HTTPError` into a `HfHubHTTPError` to display request information\u001B[39;00m\n\u001B[32m    480\u001B[39m \u001B[38;5;66;03m# as well (request id and/or server error message)\u001B[39;00m\n\u001B[32m--> \u001B[39m\u001B[32m481\u001B[39m \u001B[38;5;28;01mraise\u001B[39;00m _format(HfHubHTTPError, \u001B[38;5;28mstr\u001B[39m(e), response) \u001B[38;5;28;01mfrom\u001B[39;00m\u001B[38;5;250m \u001B[39m\u001B[34;01me\u001B[39;00m\n",
      "\u001B[31mHfHubHTTPError\u001B[39m: 401 Client Error: Unauthorized for url: https://huggingface.co/api/repos/create (Request ID: Root=1-67e91db0-40fb617b1378c71a304ca36f;2749dd57-d71f-46c6-b959-6cfe32cd9b2a)\n\nInvalid username or password."
     ]
    }
   ],
   "execution_count": 2,
   "source": [
    "from langchain_huggingface import HuggingFacePipeline\n",
    "from transformers import AutoModelForCausalLM, AutoTokenizer, pipeline, BitsAndBytesConfig,Qwen2TokenizerFast, LlamaTokenizer\n",
    "from transformers import Qwen2ForCausalLM, set_seed, TextGenerationPipeline\n",
    "import torch\n",
    "from vllm.worker.cache_engine import\n",
    "model_path = 'Qwen/Qwen2.5-0.5B-Instruct'\n",
    "\n",
    "quantization_cfg = BitsAndBytesConfig(load_in_8bit=True)\n",
    "\n",
    "tokenizer = AutoTokenizer.from_pretrained(model_path)\n",
    "model = AutoModelForCausalLM.from_pretrained(model_path,\n",
    "                                             # torch_dtype=torch.bfloat16,\n",
    "                                             quantization_config=quantization_cfg,\n",
    "                                             low_cpu_mem_usage=True\n",
    "                                             )\n",
    "model.push_to_hub(\"Qwen2.5-0.5B-Instruct-bnb-8bit\")"
   ],
   "id": "5ca657ca273a8d9e"
  },
  {
   "cell_type": "code",
   "id": "initial_id",
   "metadata": {
    "collapsed": true
   },
   "source": [
    "from vllm import LLM\n",
    "import torch\n",
    "llm = LLM(model=\"Qwen/Qwen2.5-0.5B-Instruct\",\n",
    "          dtype=torch.float16,\n",
    "          quantization=\"bitsandbytes\",\n",
    "          gpu_memory_utilization=0.5,\n",
    "          trust_remote_code=True,\n",
    "          max_model_len=1000,\n",
    "          # distributed_executor_backend=\"mp\",\n",
    "          # enforce_eager=True\n",
    ")\n",
    "llm.chat()"
   ],
   "outputs": [],
   "execution_count": null
  },
  {
   "metadata": {
    "ExecuteTime": {
     "end_time": "2025-03-30T12:28:21.868Z",
     "start_time": "2025-03-30T12:28:21.861315Z"
    }
   },
   "cell_type": "code",
   "source": [
    "import time\n",
    "\n",
    "time.monotonic(\n",
    "\n",
    ")"
   ],
   "id": "55f806afa55bb72",
   "outputs": [
    {
     "data": {
      "text/plain": [
       "31204.736345472"
      ]
     },
     "execution_count": 8,
     "metadata": {},
     "output_type": "execute_result"
    }
   ],
   "execution_count": 8
  },
  {
   "metadata": {},
   "cell_type": "code",
   "outputs": [],
   "execution_count": null,
   "source": "from vllm.engine.async_llm_engine import AsyncLLMEngine\n",
   "id": "d9cdeef9cbdc1f87"
  }
 ],
 "metadata": {
  "kernelspec": {
   "display_name": "Python 3",
   "language": "python",
   "name": "python3"
  },
  "language_info": {
   "codemirror_mode": {
    "name": "ipython",
    "version": 2
   },
   "file_extension": ".py",
   "mimetype": "text/x-python",
   "name": "python",
   "nbconvert_exporter": "python",
   "pygments_lexer": "ipython2",
   "version": "2.7.6"
  }
 },
 "nbformat": 4,
 "nbformat_minor": 5
}
