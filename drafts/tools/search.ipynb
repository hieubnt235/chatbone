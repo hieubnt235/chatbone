{
 "cells": [
  {
   "metadata": {},
   "cell_type": "markdown",
   "source": "## Tavily",
   "id": "fb4d5913636d8718"
  },
  {
   "cell_type": "code",
   "id": "initial_id",
   "metadata": {
    "collapsed": true,
    "ExecuteTime": {
     "end_time": "2025-04-21T08:12:43.676298Z",
     "start_time": "2025-04-21T08:12:43.672867Z"
    }
   },
   "source": [
    "key = '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'\n",
    "import os\n",
    "from  langchain_tavily import TavilySearch\n",
    "os.environ['TAVILY_API_KEY'] = key\n",
    "tool = TavilySearch(max_results=2)"
   ],
   "outputs": [],
   "execution_count": 32
  },
  {
   "metadata": {
    "ExecuteTime": {
     "end_time": "2025-04-21T08:12:48.248175Z",
     "start_time": "2025-04-21T08:12:44.210082Z"
    }
   },
   "cell_type": "code",
   "source": [
    "re:dict = await tool.ainvoke(dict(query = 'what is the name hunterxhunter anime release',\n",
    "                                  include_images=True))\n",
    "re"
   ],
   "id": "2676918afd7b8bf",
   "outputs": [
    {
     "data": {
      "text/plain": [
       "{'query': 'what is the name hunterxhunter anime release',\n",
       " 'follow_up_questions': None,\n",
       " 'answer': None,\n",
       " 'images': ['https://www.thedigitalfix.com/wp-content/sites/thedigitalfix/2023/07/hunter-x-hunter-season-7-release-date.jpg',\n",
       "  'https://picfiles.alphacoders.com/379/thumb-1920-379367.jpg',\n",
       "  'https://static0.gamerantimages.com/wordpress/wp-content/uploads/2021/11/Hunter-x-Hunter-Main-Characters-Age-Height-Birthday.jpg',\n",
       "  'https://www.destructoid.com/wp-content/uploads/2024/01/HunterxHunterNenxImpactPic.jpg',\n",
       "  'https://i.ytimg.com/vi/mY5bQG7LE4c/maxresdefault.jpg'],\n",
       " 'results': [{'title': \"All 6 'Hunter X Hunter' Arcs, OVAs & Movies in Order - Fiction Horizon\",\n",
       "   'url': 'https://fictionhorizon.com/hunter-x-hunter-watch-order/',\n",
       "   'content': 'Hunter X Hunter is an anime franchise based on a manga series created by Yoshihiro Togashi. Hunter X Hunter series, arcs, OVAs & movies in release date order The Hunter X Hunter anime franchise started back in 1999 and had a successful run that ended in  2000 with a total of 3 arcs and 62 episodes. Here are all Hunter X Hunter anime arcs in release date order: Since both versions of the anime series are adapting the whole story from the beginning, we decided to summarize which arcs should be watched in which order instead of merely listing the episodes. The Hunter Exam arc marks the beginning of the series, spanning the first 38 manga chapters, the initial 31 episodes of the 1999 anime, and the first 21 episodes of the 2011 adaptation.',\n",
       "   'score': 0.7559439,\n",
       "   'raw_content': None},\n",
       "  {'title': 'Hunter × Hunter (2011 TV series) - Wikipedia',\n",
       "   'url': 'https://en.wikipedia.org/wiki/Hunter_×_Hunter_(2011_TV_series)',\n",
       "   'content': '-Second Version-\" both sung by Galneryus\\' vocalist Masatoshi Ono. Five pieces of music were used as the ending theme; \"Just Awake\" by the Japanese band Fear, and Loathing in Las Vegas in episodes 1 to 26,[8] \"Hunting for Your Dream\" by Galneryus in episodes 27 to 58,[9] \"Reason\" sung by Japanese duo Yuzu in episodes 59 to 75,[10] \"Nagareboshi Kirari\" also sung by Yuzu from episode 76 to 98, which was originally from the anime film adaptation, Hunter × Hunter: Phantom Rouge,[11] and \"Hyōri Ittai\" by Yuzu featuring Hyadain from episode 99 to 146, which was also used in the film Hunter × Hunter: The Last Mission.[12] The background music and soundtrack for the series was composed by Yoshihisa Hirano. ^ On the broadcast night of July 2–3, 2016, Adult Swim hosted a Hunter × Hunter marathon where they played the first seven episodes.[16][17]',\n",
       "   'score': 0.51603514,\n",
       "   'raw_content': None}],\n",
       " 'response_time': 1.93}"
      ]
     },
     "execution_count": 33,
     "metadata": {},
     "output_type": "execute_result"
    }
   ],
   "execution_count": 33
  },
  {
   "metadata": {
    "ExecuteTime": {
     "end_time": "2025-04-21T07:37:57.297402Z",
     "start_time": "2025-04-21T07:37:56.056968Z"
    }
   },
   "cell_type": "code",
   "source": [
    "import aiohttp\n",
    "async with aiohttp.ClientSession() as session:\n",
    "    async with session.get(url = re['images'][0],timeout=20) as response:\n",
    "        img_bytes = await response.read()\n",
    "import io\n",
    "from PIL import Image\n",
    "img = Image.open(io.BytesIO(img_bytes))\n",
    "img.show()"
   ],
   "id": "edffdbfa4af32f8c",
   "outputs": [],
   "execution_count": 28
  },
  {
   "metadata": {},
   "cell_type": "code",
   "outputs": [],
   "execution_count": null,
   "source": "",
   "id": "d6774154a16356f4"
  },
  {
   "metadata": {},
   "cell_type": "code",
   "outputs": [],
   "execution_count": null,
   "source": "",
   "id": "9f4abd9179aec45"
  }
 ],
 "metadata": {
  "kernelspec": {
   "display_name": "Python 3",
   "language": "python",
   "name": "python3"
  },
  "language_info": {
   "codemirror_mode": {
    "name": "ipython",
    "version": 2
   },
   "file_extension": ".py",
   "mimetype": "text/x-python",
   "name": "python",
   "nbconvert_exporter": "python",
   "pygments_lexer": "ipython2",
   "version": "2.7.6"
  }
 },
 "nbformat": 4,
 "nbformat_minor": 5
}
